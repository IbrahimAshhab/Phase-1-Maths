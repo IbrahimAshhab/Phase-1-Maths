{
 "cells": [
  {
   "cell_type": "markdown",
   "id": "cc6c9d69",
   "metadata": {},
   "source": [
    "# Predicting Students Maths Performance"
   ]
  },
  {
   "cell_type": "markdown",
   "id": "1dfc5e61",
   "metadata": {},
   "source": [
    "## Table Of Contents\n",
    "- [Introduction](#Introduction)\n",
    "    - [Dataset Source](#DatasetSource)\n",
    "    - [Dataset Details](#DatasetDetails)\n",
    "    - [Dataset Variables](#DatasetVariables)\n",
    "    - [Response Variable](#ResponseVariable)\n",
    "    \n",
    "- [Goals & Objectives](#Goals&Objectives)\n",
    "\n",
    "- [Data Cleaning & Preprocesseing](#DataCleaning&Preprocesseing)\n",
    "\n",
    "- [Data Exploration & Visualisation](#DataExploration&Visualisation)\n",
    "    \n",
    "- [Summary & Conclusions](#Summary&Conclusions)\n",
    "\n",
    "- [References](#References)"
   ]
  },
  {
   "cell_type": "markdown",
   "id": "ce5e9966",
   "metadata": {},
   "source": [
    "## Introduction <a id=\"Introduction\"></a>"
   ]
  },
  {
   "cell_type": "markdown",
   "id": "66c5f0b1",
   "metadata": {},
   "source": [
    "### Dataset Source <a id=\"DatasetSource\"></a>"
   ]
  },
  {
   "cell_type": "markdown",
   "id": "3ecf1f76",
   "metadata": {},
   "source": [
    "The dataset used in this study was obtained from Kaggle. This dataset includes the Maths grades of secondary school students in two Portuguese schools."
   ]
  },
  {
   "cell_type": "markdown",
   "id": "9a1cbfbd",
   "metadata": {},
   "source": [
    "### Dataset Details <a id=\"DatasetDetails\"></a>"
   ]
  },
  {
   "cell_type": "markdown",
   "id": "45b906e6",
   "metadata": {},
   "source": [
    "This dataset is about the Final Math scores of secondary school students. In the dataset we have different features such as: the school of the students, the gender of the students, the age of students, the students home address, the students parents relationship status, the amount of time students study in a week, the number of classes the students had failed previously, the final Maths score achieved, and more. These features should be adequate for a linear regression problem on the students final scores.\n",
    "\n",
    "The dataset has a total of 33 features (columns before dropping anything) and 395 observations (rows).\n",
    "\n",
    "We will retrieve the dataset from our own devices by reading it since we have the csv file (the dataset) in the same folder as this jupyter notebook file."
   ]
  },
  {
   "cell_type": "code",
   "execution_count": 247,
   "id": "2cbd68d5",
   "metadata": {},
   "outputs": [],
   "source": [
    "import warnings\n",
    "warnings.filterwarnings(\"ignore\")\n",
    "import pandas as pd\n",
    "import numpy as np\n",
    "import requests\n",
    "import io \n",
    "import matplotlib.pyplot as plt\n",
    "import seaborn as sns\n",
    "\n",
    "pd.set_option('display.max_columns', None)\n"
   ]
  },
  {
   "cell_type": "code",
   "execution_count": 248,
   "id": "f097c198",
   "metadata": {},
   "outputs": [],
   "source": [
    "# reading the csv file and naming it 'Maths_Scores'\n",
    "Maths_Scores = pd.read_csv('Maths.csv')\n"
   ]
  },
  {
   "cell_type": "code",
   "execution_count": 249,
   "id": "3b551037",
   "metadata": {
    "scrolled": true
   },
   "outputs": [
    {
     "data": {
      "text/html": [
       "<div>\n",
       "<style scoped>\n",
       "    .dataframe tbody tr th:only-of-type {\n",
       "        vertical-align: middle;\n",
       "    }\n",
       "\n",
       "    .dataframe tbody tr th {\n",
       "        vertical-align: top;\n",
       "    }\n",
       "\n",
       "    .dataframe thead th {\n",
       "        text-align: right;\n",
       "    }\n",
       "</style>\n",
       "<table border=\"1\" class=\"dataframe\">\n",
       "  <thead>\n",
       "    <tr style=\"text-align: right;\">\n",
       "      <th></th>\n",
       "      <th>school</th>\n",
       "      <th>sex</th>\n",
       "      <th>age</th>\n",
       "      <th>address</th>\n",
       "      <th>famsize</th>\n",
       "      <th>Pstatus</th>\n",
       "      <th>Medu</th>\n",
       "      <th>Fedu</th>\n",
       "      <th>Mjob</th>\n",
       "      <th>Fjob</th>\n",
       "      <th>reason</th>\n",
       "      <th>guardian</th>\n",
       "      <th>traveltime</th>\n",
       "      <th>studytime</th>\n",
       "      <th>failures</th>\n",
       "      <th>schoolsup</th>\n",
       "      <th>famsup</th>\n",
       "      <th>paid</th>\n",
       "      <th>activities</th>\n",
       "      <th>nursery</th>\n",
       "      <th>higher</th>\n",
       "      <th>internet</th>\n",
       "      <th>romantic</th>\n",
       "      <th>famrel</th>\n",
       "      <th>freetime</th>\n",
       "      <th>goout</th>\n",
       "      <th>Dalc</th>\n",
       "      <th>Walc</th>\n",
       "      <th>health</th>\n",
       "      <th>absences</th>\n",
       "      <th>G1</th>\n",
       "      <th>G2</th>\n",
       "      <th>G3</th>\n",
       "    </tr>\n",
       "  </thead>\n",
       "  <tbody>\n",
       "    <tr>\n",
       "      <th>355</th>\n",
       "      <td>MS</td>\n",
       "      <td>F</td>\n",
       "      <td>18</td>\n",
       "      <td>U</td>\n",
       "      <td>GT3</td>\n",
       "      <td>T</td>\n",
       "      <td>3</td>\n",
       "      <td>3</td>\n",
       "      <td>services</td>\n",
       "      <td>services</td>\n",
       "      <td>course</td>\n",
       "      <td>father</td>\n",
       "      <td>1</td>\n",
       "      <td>2</td>\n",
       "      <td>0</td>\n",
       "      <td>no</td>\n",
       "      <td>yes</td>\n",
       "      <td>no</td>\n",
       "      <td>no</td>\n",
       "      <td>yes</td>\n",
       "      <td>yes</td>\n",
       "      <td>no</td>\n",
       "      <td>yes</td>\n",
       "      <td>5</td>\n",
       "      <td>3</td>\n",
       "      <td>4</td>\n",
       "      <td>1</td>\n",
       "      <td>1</td>\n",
       "      <td>5</td>\n",
       "      <td>0</td>\n",
       "      <td>10</td>\n",
       "      <td>9</td>\n",
       "      <td>9</td>\n",
       "    </tr>\n",
       "    <tr>\n",
       "      <th>50</th>\n",
       "      <td>GP</td>\n",
       "      <td>F</td>\n",
       "      <td>16</td>\n",
       "      <td>U</td>\n",
       "      <td>LE3</td>\n",
       "      <td>T</td>\n",
       "      <td>2</td>\n",
       "      <td>2</td>\n",
       "      <td>services</td>\n",
       "      <td>services</td>\n",
       "      <td>course</td>\n",
       "      <td>mother</td>\n",
       "      <td>3</td>\n",
       "      <td>2</td>\n",
       "      <td>0</td>\n",
       "      <td>no</td>\n",
       "      <td>yes</td>\n",
       "      <td>yes</td>\n",
       "      <td>no</td>\n",
       "      <td>yes</td>\n",
       "      <td>yes</td>\n",
       "      <td>yes</td>\n",
       "      <td>no</td>\n",
       "      <td>4</td>\n",
       "      <td>3</td>\n",
       "      <td>3</td>\n",
       "      <td>2</td>\n",
       "      <td>3</td>\n",
       "      <td>4</td>\n",
       "      <td>2</td>\n",
       "      <td>12</td>\n",
       "      <td>13</td>\n",
       "      <td>13</td>\n",
       "    </tr>\n",
       "    <tr>\n",
       "      <th>265</th>\n",
       "      <td>GP</td>\n",
       "      <td>M</td>\n",
       "      <td>18</td>\n",
       "      <td>R</td>\n",
       "      <td>LE3</td>\n",
       "      <td>A</td>\n",
       "      <td>3</td>\n",
       "      <td>4</td>\n",
       "      <td>other</td>\n",
       "      <td>other</td>\n",
       "      <td>reputation</td>\n",
       "      <td>mother</td>\n",
       "      <td>2</td>\n",
       "      <td>2</td>\n",
       "      <td>0</td>\n",
       "      <td>no</td>\n",
       "      <td>yes</td>\n",
       "      <td>yes</td>\n",
       "      <td>yes</td>\n",
       "      <td>yes</td>\n",
       "      <td>yes</td>\n",
       "      <td>yes</td>\n",
       "      <td>no</td>\n",
       "      <td>4</td>\n",
       "      <td>2</td>\n",
       "      <td>5</td>\n",
       "      <td>3</td>\n",
       "      <td>4</td>\n",
       "      <td>1</td>\n",
       "      <td>13</td>\n",
       "      <td>17</td>\n",
       "      <td>17</td>\n",
       "      <td>17</td>\n",
       "    </tr>\n",
       "    <tr>\n",
       "      <th>263</th>\n",
       "      <td>GP</td>\n",
       "      <td>F</td>\n",
       "      <td>17</td>\n",
       "      <td>U</td>\n",
       "      <td>GT3</td>\n",
       "      <td>T</td>\n",
       "      <td>3</td>\n",
       "      <td>3</td>\n",
       "      <td>other</td>\n",
       "      <td>other</td>\n",
       "      <td>home</td>\n",
       "      <td>mother</td>\n",
       "      <td>1</td>\n",
       "      <td>3</td>\n",
       "      <td>0</td>\n",
       "      <td>no</td>\n",
       "      <td>no</td>\n",
       "      <td>no</td>\n",
       "      <td>yes</td>\n",
       "      <td>no</td>\n",
       "      <td>yes</td>\n",
       "      <td>no</td>\n",
       "      <td>no</td>\n",
       "      <td>3</td>\n",
       "      <td>2</td>\n",
       "      <td>3</td>\n",
       "      <td>1</td>\n",
       "      <td>1</td>\n",
       "      <td>4</td>\n",
       "      <td>4</td>\n",
       "      <td>10</td>\n",
       "      <td>9</td>\n",
       "      <td>9</td>\n",
       "    </tr>\n",
       "    <tr>\n",
       "      <th>375</th>\n",
       "      <td>MS</td>\n",
       "      <td>F</td>\n",
       "      <td>18</td>\n",
       "      <td>R</td>\n",
       "      <td>GT3</td>\n",
       "      <td>T</td>\n",
       "      <td>1</td>\n",
       "      <td>1</td>\n",
       "      <td>other</td>\n",
       "      <td>other</td>\n",
       "      <td>home</td>\n",
       "      <td>mother</td>\n",
       "      <td>4</td>\n",
       "      <td>3</td>\n",
       "      <td>0</td>\n",
       "      <td>no</td>\n",
       "      <td>no</td>\n",
       "      <td>no</td>\n",
       "      <td>no</td>\n",
       "      <td>yes</td>\n",
       "      <td>yes</td>\n",
       "      <td>yes</td>\n",
       "      <td>no</td>\n",
       "      <td>4</td>\n",
       "      <td>3</td>\n",
       "      <td>2</td>\n",
       "      <td>1</td>\n",
       "      <td>2</td>\n",
       "      <td>4</td>\n",
       "      <td>2</td>\n",
       "      <td>8</td>\n",
       "      <td>8</td>\n",
       "      <td>10</td>\n",
       "    </tr>\n",
       "    <tr>\n",
       "      <th>106</th>\n",
       "      <td>GP</td>\n",
       "      <td>F</td>\n",
       "      <td>15</td>\n",
       "      <td>U</td>\n",
       "      <td>GT3</td>\n",
       "      <td>T</td>\n",
       "      <td>2</td>\n",
       "      <td>2</td>\n",
       "      <td>other</td>\n",
       "      <td>other</td>\n",
       "      <td>course</td>\n",
       "      <td>mother</td>\n",
       "      <td>1</td>\n",
       "      <td>4</td>\n",
       "      <td>0</td>\n",
       "      <td>yes</td>\n",
       "      <td>yes</td>\n",
       "      <td>yes</td>\n",
       "      <td>no</td>\n",
       "      <td>yes</td>\n",
       "      <td>yes</td>\n",
       "      <td>yes</td>\n",
       "      <td>no</td>\n",
       "      <td>5</td>\n",
       "      <td>1</td>\n",
       "      <td>2</td>\n",
       "      <td>1</td>\n",
       "      <td>1</td>\n",
       "      <td>3</td>\n",
       "      <td>8</td>\n",
       "      <td>7</td>\n",
       "      <td>8</td>\n",
       "      <td>8</td>\n",
       "    </tr>\n",
       "    <tr>\n",
       "      <th>207</th>\n",
       "      <td>GP</td>\n",
       "      <td>F</td>\n",
       "      <td>16</td>\n",
       "      <td>U</td>\n",
       "      <td>GT3</td>\n",
       "      <td>T</td>\n",
       "      <td>4</td>\n",
       "      <td>3</td>\n",
       "      <td>teacher</td>\n",
       "      <td>other</td>\n",
       "      <td>other</td>\n",
       "      <td>mother</td>\n",
       "      <td>1</td>\n",
       "      <td>2</td>\n",
       "      <td>0</td>\n",
       "      <td>no</td>\n",
       "      <td>no</td>\n",
       "      <td>yes</td>\n",
       "      <td>yes</td>\n",
       "      <td>yes</td>\n",
       "      <td>yes</td>\n",
       "      <td>yes</td>\n",
       "      <td>yes</td>\n",
       "      <td>1</td>\n",
       "      <td>3</td>\n",
       "      <td>2</td>\n",
       "      <td>1</td>\n",
       "      <td>1</td>\n",
       "      <td>1</td>\n",
       "      <td>10</td>\n",
       "      <td>11</td>\n",
       "      <td>12</td>\n",
       "      <td>13</td>\n",
       "    </tr>\n",
       "    <tr>\n",
       "      <th>349</th>\n",
       "      <td>MS</td>\n",
       "      <td>M</td>\n",
       "      <td>18</td>\n",
       "      <td>R</td>\n",
       "      <td>GT3</td>\n",
       "      <td>T</td>\n",
       "      <td>3</td>\n",
       "      <td>2</td>\n",
       "      <td>other</td>\n",
       "      <td>other</td>\n",
       "      <td>course</td>\n",
       "      <td>mother</td>\n",
       "      <td>2</td>\n",
       "      <td>1</td>\n",
       "      <td>1</td>\n",
       "      <td>no</td>\n",
       "      <td>yes</td>\n",
       "      <td>no</td>\n",
       "      <td>no</td>\n",
       "      <td>no</td>\n",
       "      <td>yes</td>\n",
       "      <td>yes</td>\n",
       "      <td>no</td>\n",
       "      <td>2</td>\n",
       "      <td>5</td>\n",
       "      <td>5</td>\n",
       "      <td>5</td>\n",
       "      <td>5</td>\n",
       "      <td>5</td>\n",
       "      <td>10</td>\n",
       "      <td>11</td>\n",
       "      <td>13</td>\n",
       "      <td>13</td>\n",
       "    </tr>\n",
       "    <tr>\n",
       "      <th>295</th>\n",
       "      <td>GP</td>\n",
       "      <td>M</td>\n",
       "      <td>17</td>\n",
       "      <td>U</td>\n",
       "      <td>GT3</td>\n",
       "      <td>T</td>\n",
       "      <td>3</td>\n",
       "      <td>3</td>\n",
       "      <td>health</td>\n",
       "      <td>other</td>\n",
       "      <td>home</td>\n",
       "      <td>mother</td>\n",
       "      <td>1</td>\n",
       "      <td>1</td>\n",
       "      <td>0</td>\n",
       "      <td>no</td>\n",
       "      <td>yes</td>\n",
       "      <td>yes</td>\n",
       "      <td>no</td>\n",
       "      <td>yes</td>\n",
       "      <td>yes</td>\n",
       "      <td>yes</td>\n",
       "      <td>no</td>\n",
       "      <td>4</td>\n",
       "      <td>4</td>\n",
       "      <td>3</td>\n",
       "      <td>1</td>\n",
       "      <td>3</td>\n",
       "      <td>5</td>\n",
       "      <td>4</td>\n",
       "      <td>14</td>\n",
       "      <td>12</td>\n",
       "      <td>11</td>\n",
       "    </tr>\n",
       "    <tr>\n",
       "      <th>140</th>\n",
       "      <td>GP</td>\n",
       "      <td>M</td>\n",
       "      <td>15</td>\n",
       "      <td>U</td>\n",
       "      <td>GT3</td>\n",
       "      <td>T</td>\n",
       "      <td>4</td>\n",
       "      <td>3</td>\n",
       "      <td>teacher</td>\n",
       "      <td>services</td>\n",
       "      <td>course</td>\n",
       "      <td>father</td>\n",
       "      <td>2</td>\n",
       "      <td>4</td>\n",
       "      <td>0</td>\n",
       "      <td>yes</td>\n",
       "      <td>yes</td>\n",
       "      <td>no</td>\n",
       "      <td>no</td>\n",
       "      <td>yes</td>\n",
       "      <td>yes</td>\n",
       "      <td>yes</td>\n",
       "      <td>no</td>\n",
       "      <td>2</td>\n",
       "      <td>2</td>\n",
       "      <td>2</td>\n",
       "      <td>1</td>\n",
       "      <td>1</td>\n",
       "      <td>3</td>\n",
       "      <td>0</td>\n",
       "      <td>7</td>\n",
       "      <td>9</td>\n",
       "      <td>0</td>\n",
       "    </tr>\n",
       "  </tbody>\n",
       "</table>\n",
       "</div>"
      ],
      "text/plain": [
       "    school sex  age address famsize Pstatus  Medu  Fedu      Mjob      Fjob  \\\n",
       "355     MS   F   18       U     GT3       T     3     3  services  services   \n",
       "50      GP   F   16       U     LE3       T     2     2  services  services   \n",
       "265     GP   M   18       R     LE3       A     3     4     other     other   \n",
       "263     GP   F   17       U     GT3       T     3     3     other     other   \n",
       "375     MS   F   18       R     GT3       T     1     1     other     other   \n",
       "106     GP   F   15       U     GT3       T     2     2     other     other   \n",
       "207     GP   F   16       U     GT3       T     4     3   teacher     other   \n",
       "349     MS   M   18       R     GT3       T     3     2     other     other   \n",
       "295     GP   M   17       U     GT3       T     3     3    health     other   \n",
       "140     GP   M   15       U     GT3       T     4     3   teacher  services   \n",
       "\n",
       "         reason guardian  traveltime  studytime  failures schoolsup famsup  \\\n",
       "355      course   father           1          2         0        no    yes   \n",
       "50       course   mother           3          2         0        no    yes   \n",
       "265  reputation   mother           2          2         0        no    yes   \n",
       "263        home   mother           1          3         0        no     no   \n",
       "375        home   mother           4          3         0        no     no   \n",
       "106      course   mother           1          4         0       yes    yes   \n",
       "207       other   mother           1          2         0        no     no   \n",
       "349      course   mother           2          1         1        no    yes   \n",
       "295        home   mother           1          1         0        no    yes   \n",
       "140      course   father           2          4         0       yes    yes   \n",
       "\n",
       "    paid activities nursery higher internet romantic  famrel  freetime  goout  \\\n",
       "355   no         no     yes    yes       no      yes       5         3      4   \n",
       "50   yes         no     yes    yes      yes       no       4         3      3   \n",
       "265  yes        yes     yes    yes      yes       no       4         2      5   \n",
       "263   no        yes      no    yes       no       no       3         2      3   \n",
       "375   no         no     yes    yes      yes       no       4         3      2   \n",
       "106  yes         no     yes    yes      yes       no       5         1      2   \n",
       "207  yes        yes     yes    yes      yes      yes       1         3      2   \n",
       "349   no         no      no    yes      yes       no       2         5      5   \n",
       "295  yes         no     yes    yes      yes       no       4         4      3   \n",
       "140   no         no     yes    yes      yes       no       2         2      2   \n",
       "\n",
       "     Dalc  Walc  health  absences  G1  G2  G3  \n",
       "355     1     1       5         0  10   9   9  \n",
       "50      2     3       4         2  12  13  13  \n",
       "265     3     4       1        13  17  17  17  \n",
       "263     1     1       4         4  10   9   9  \n",
       "375     1     2       4         2   8   8  10  \n",
       "106     1     1       3         8   7   8   8  \n",
       "207     1     1       1        10  11  12  13  \n",
       "349     5     5       5        10  11  13  13  \n",
       "295     1     3       5         4  14  12  11  \n",
       "140     1     1       3         0   7   9   0  "
      ]
     },
     "execution_count": 249,
     "metadata": {},
     "output_type": "execute_result"
    }
   ],
   "source": [
    "Maths_Scores.sample(10, random_state=643)"
   ]
  },
  {
   "cell_type": "markdown",
   "id": "6a5ed155",
   "metadata": {},
   "source": [
    "### Dataset Variables <a id=\"DatasetVariables\"></a>"
   ]
  },
  {
   "cell_type": "markdown",
   "id": "009251d6",
   "metadata": {},
   "source": [
    "The variables or features we are going to use in our report are shown in the table below."
   ]
  },
  {
   "cell_type": "code",
   "execution_count": 250,
   "id": "6a932a71",
   "metadata": {},
   "outputs": [
    {
     "name": "stdout",
     "output_type": "stream",
     "text": [
      "╒═══════════╤═════════════════════╤═════════╤══════════════════════════════════════════════════════════════════════╕\n",
      "│ Name      │ Data Type           │ Units   │ Description                                                          │\n",
      "╞═══════════╪═════════════════════╪═════════╪══════════════════════════════════════════════════════════════════════╡\n",
      "│ school    │ Nominal categorical │ NA      │ The school that the student attends (GP or MS)                       │\n",
      "├───────────┼─────────────────────┼─────────┼──────────────────────────────────────────────────────────────────────┤\n",
      "│ sex       │ Nominal categorical │ NA      │ The sex of the student (M/Male or F/Female)                          │\n",
      "├───────────┼─────────────────────┼─────────┼──────────────────────────────────────────────────────────────────────┤\n",
      "│ age       │ Numerical           │ Years   │ Age of the student                                                   │\n",
      "├───────────┼─────────────────────┼─────────┼──────────────────────────────────────────────────────────────────────┤\n",
      "│ studytime │ Ordinal categorical │ NA      │ Number for the category for the hours the student studies per week:  │\n",
      "│           │                     │         │  1 - <2 hours, 2 - 2 to 5 hours, 3 - 5 to 10 hours,                  │\n",
      "│           │                     │         │  or 4 - >10 hours                                                    │\n",
      "├───────────┼─────────────────────┼─────────┼──────────────────────────────────────────────────────────────────────┤\n",
      "│ Medu      │ Ordinal categorical │ NA      │ Highest level of mother's education:                                 │\n",
      "│           │                     │         │ 0 - none, 1 - primary education (4th grade),                         │\n",
      "│           │                     │         │ 2 - 5th to 9th grade,                                                │\n",
      "│           │                     │         │ 3 - secondary education or 4 - higher education                      │\n",
      "├───────────┼─────────────────────┼─────────┼──────────────────────────────────────────────────────────────────────┤\n",
      "│ Fedu      │ Ordinal categorical │ NA      │ Highest level of father's education:                                 │\n",
      "│           │                     │         │ 0 - none, 1 - primary education (4th grade),                         │\n",
      "│           │                     │         │ 2 - 5th to 9th grade,                                                │\n",
      "│           │                     │         │ 3 - secondary education or 4 - higher education                      │\n",
      "├───────────┼─────────────────────┼─────────┼──────────────────────────────────────────────────────────────────────┤\n",
      "│ failures  │ Numerical           │ NA      │ Number of courses the student has failed previously:                 │\n",
      "│           │                     │         │ n if 0<=n<=3, else 4                                                 │\n",
      "├───────────┼─────────────────────┼─────────┼──────────────────────────────────────────────────────────────────────┤\n",
      "│ schoolsup │ Binary              │ NA      │ extra educational support                                            │\n",
      "├───────────┼─────────────────────┼─────────┼──────────────────────────────────────────────────────────────────────┤\n",
      "│ famsup    │ Binary              │ NA      │ family educational support                                           │\n",
      "├───────────┼─────────────────────┼─────────┼──────────────────────────────────────────────────────────────────────┤\n",
      "│ absences  │ Numerical           │ NA      │ Number of times the student was absent                               │\n",
      "├───────────┼─────────────────────┼─────────┼──────────────────────────────────────────────────────────────────────┤\n",
      "│ famrel    │ Ordinal categorical │ NA      │ Quality of family relationships (from 1 - very bad to 5 - excellent) │\n",
      "├───────────┼─────────────────────┼─────────┼──────────────────────────────────────────────────────────────────────┤\n",
      "│ Pstatus   │ Nominal categorical │ NA      │ Parent's cohabitation status ('T' - living together or 'A' - apart)  │\n",
      "├───────────┼─────────────────────┼─────────┼──────────────────────────────────────────────────────────────────────┤\n",
      "│ G1        │ Numerical           │ Marks   │ first period grade (0 to 20)                                         │\n",
      "├───────────┼─────────────────────┼─────────┼──────────────────────────────────────────────────────────────────────┤\n",
      "│ G2        │ Numerical           │ Marks   │ second period grade (0 to 20)                                        │\n",
      "├───────────┼─────────────────────┼─────────┼──────────────────────────────────────────────────────────────────────┤\n",
      "│ G3        │ Numerical           │ Marks   │ Final Maths grade (0 - 20)                                           │\n",
      "╘═══════════╧═════════════════════╧═════════╧══════════════════════════════════════════════════════════════════════╛\n"
     ]
    }
   ],
   "source": [
    "from tabulate import tabulate\n",
    "\n",
    "Variable_table = [['Name','Data Type','Units','Description'],\n",
    "                 ['school', 'Nominal categorical', 'NA', 'The school that the student attends (GP or MS)'],\n",
    "                 ['sex', 'Nominal categorical', 'NA', 'The sex of the student (M/Male or F/Female)'],\n",
    "                 ['age', 'Numerical', 'Years', 'Age of the student'],\n",
    "                 ['studytime', 'Ordinal categorical', 'NA', 'Number for the category for the hours the student studies per week:\\n 1 - <2 hours, 2 - 2 to 5 hours, 3 - 5 to 10 hours,\\n or 4 - >10 hours'],\n",
    "                 ['Medu', 'Ordinal categorical', 'NA', 'Highest level of mother\\'s education: \\n0 - none, 1 - primary education (4th grade), \\n2 - 5th to 9th grade, \\n3 - secondary education or 4 - higher education'],\n",
    "                 ['Fedu', 'Ordinal categorical', 'NA', 'Highest level of father\\'s education: \\n0 - none, 1 - primary education (4th grade), \\n2 - 5th to 9th grade, \\n3 - secondary education or 4 - higher education'],\n",
    "                 ['failures', 'Numerical', 'NA', 'Number of courses the student has failed previously: \\nn if 0<=n<=3, else 4'],\n",
    "                 ['schoolsup', 'Binary', 'NA', 'extra educational support'],\n",
    "                 ['famsup', 'Binary', 'NA', 'family educational support'],\n",
    "                 ['absences', 'Numerical', 'NA', 'Number of times the student was absent'],\n",
    "                 ['famrel', 'Ordinal categorical', 'NA', 'Quality of family relationships (from 1 - very bad to 5 - excellent)'],\n",
    "                 ['Pstatus', 'Nominal categorical', 'NA', 'Parent\\'s cohabitation status (\\'T\\' - living together or \\'A\\' - apart)'],\n",
    "                 ['G1', 'Numerical', 'Marks', 'first period grade (0 to 20)'],\n",
    "                 ['G2', 'Numerical', 'Marks', 'second period grade (0 to 20)'],\n",
    "                 ['G3', 'Numerical', 'Marks', 'Final Maths grade (0 - 20)']]\n",
    "\n",
    "\n",
    "print(tabulate(Variable_table, headers='firstrow', tablefmt='fancy_grid'))"
   ]
  },
  {
   "cell_type": "markdown",
   "id": "729d138b",
   "metadata": {},
   "source": [
    "### Response Variable <a id=\"ResponseVariable\"></a>"
   ]
  },
  {
   "cell_type": "markdown",
   "id": "5c30074c",
   "metadata": {},
   "source": [
    "The target variable for this report is 'G3' which is the final maths grade of the students. We will examine how the final maths grade changes based on the different explanatory variables."
   ]
  },
  {
   "cell_type": "markdown",
   "id": "1bb19d94",
   "metadata": {},
   "source": [
    "## Goals & Objectives <a id=\"Goals&Objectives\"></a>"
   ]
  },
  {
   "cell_type": "markdown",
   "id": "33f6035f",
   "metadata": {},
   "source": [
    "When it comes to students' performance in school, there are a lot of factors that can affect their grades. We have decided to analyse a data set that presents the conditions that the students are under and how this may affect their grades. By doing this, we can see if certain conditions may improve the students' grades or even decrease their grades. Some of the conditions that were assessed includes, study time, absences, parents education, parents cohabitation status and more. By looking at the correlation between these conditions and their grades, we can see how students can improve their grades. \n",
    "\n",
    "Our main objectives are to see which conditions affect the students' grades the most and what conditions need to be changed in order for them to improve their grades. Another objective that we have is to predict what grades the students will get by looking at the conditions that they were in. \n",
    "\n",
    "We would assume that the amount of study time relates to the students' grade. However, this may not always be the case. This is why we need to factor in the rest of the conditions to be able to accurately predict the students' grades. "
   ]
  },
  {
   "cell_type": "markdown",
   "id": "a2219c88",
   "metadata": {},
   "source": [
    "## Data Cleaning & Preprocesseing <a id=\"DataCleaning&Preprocesseing\"></a>"
   ]
  },
  {
   "cell_type": "code",
   "execution_count": 251,
   "id": "0e147663",
   "metadata": {},
   "outputs": [
    {
     "data": {
      "text/html": [
       "<div>\n",
       "<style scoped>\n",
       "    .dataframe tbody tr th:only-of-type {\n",
       "        vertical-align: middle;\n",
       "    }\n",
       "\n",
       "    .dataframe tbody tr th {\n",
       "        vertical-align: top;\n",
       "    }\n",
       "\n",
       "    .dataframe thead th {\n",
       "        text-align: right;\n",
       "    }\n",
       "</style>\n",
       "<table border=\"1\" class=\"dataframe\">\n",
       "  <thead>\n",
       "    <tr style=\"text-align: right;\">\n",
       "      <th></th>\n",
       "      <th>school</th>\n",
       "      <th>sex</th>\n",
       "      <th>age</th>\n",
       "      <th>studytime</th>\n",
       "      <th>Medu</th>\n",
       "      <th>Fedu</th>\n",
       "      <th>failures</th>\n",
       "      <th>schoolsup</th>\n",
       "      <th>famsup</th>\n",
       "      <th>absences</th>\n",
       "      <th>famrel</th>\n",
       "      <th>Pstatus</th>\n",
       "      <th>G1</th>\n",
       "      <th>G2</th>\n",
       "      <th>G3</th>\n",
       "    </tr>\n",
       "  </thead>\n",
       "  <tbody>\n",
       "    <tr>\n",
       "      <th>0</th>\n",
       "      <td>GP</td>\n",
       "      <td>F</td>\n",
       "      <td>18</td>\n",
       "      <td>2</td>\n",
       "      <td>4</td>\n",
       "      <td>4</td>\n",
       "      <td>0</td>\n",
       "      <td>yes</td>\n",
       "      <td>no</td>\n",
       "      <td>6</td>\n",
       "      <td>4</td>\n",
       "      <td>A</td>\n",
       "      <td>5</td>\n",
       "      <td>6</td>\n",
       "      <td>6</td>\n",
       "    </tr>\n",
       "    <tr>\n",
       "      <th>1</th>\n",
       "      <td>GP</td>\n",
       "      <td>F</td>\n",
       "      <td>17</td>\n",
       "      <td>2</td>\n",
       "      <td>1</td>\n",
       "      <td>1</td>\n",
       "      <td>0</td>\n",
       "      <td>no</td>\n",
       "      <td>yes</td>\n",
       "      <td>4</td>\n",
       "      <td>5</td>\n",
       "      <td>T</td>\n",
       "      <td>5</td>\n",
       "      <td>5</td>\n",
       "      <td>6</td>\n",
       "    </tr>\n",
       "    <tr>\n",
       "      <th>2</th>\n",
       "      <td>GP</td>\n",
       "      <td>F</td>\n",
       "      <td>15</td>\n",
       "      <td>2</td>\n",
       "      <td>1</td>\n",
       "      <td>1</td>\n",
       "      <td>3</td>\n",
       "      <td>yes</td>\n",
       "      <td>no</td>\n",
       "      <td>10</td>\n",
       "      <td>4</td>\n",
       "      <td>T</td>\n",
       "      <td>7</td>\n",
       "      <td>8</td>\n",
       "      <td>10</td>\n",
       "    </tr>\n",
       "    <tr>\n",
       "      <th>3</th>\n",
       "      <td>GP</td>\n",
       "      <td>F</td>\n",
       "      <td>15</td>\n",
       "      <td>3</td>\n",
       "      <td>4</td>\n",
       "      <td>2</td>\n",
       "      <td>0</td>\n",
       "      <td>no</td>\n",
       "      <td>yes</td>\n",
       "      <td>2</td>\n",
       "      <td>3</td>\n",
       "      <td>T</td>\n",
       "      <td>15</td>\n",
       "      <td>14</td>\n",
       "      <td>15</td>\n",
       "    </tr>\n",
       "    <tr>\n",
       "      <th>4</th>\n",
       "      <td>GP</td>\n",
       "      <td>F</td>\n",
       "      <td>16</td>\n",
       "      <td>2</td>\n",
       "      <td>3</td>\n",
       "      <td>3</td>\n",
       "      <td>0</td>\n",
       "      <td>no</td>\n",
       "      <td>yes</td>\n",
       "      <td>4</td>\n",
       "      <td>4</td>\n",
       "      <td>T</td>\n",
       "      <td>6</td>\n",
       "      <td>10</td>\n",
       "      <td>10</td>\n",
       "    </tr>\n",
       "  </tbody>\n",
       "</table>\n",
       "</div>"
      ],
      "text/plain": [
       "  school sex  age  studytime  Medu  Fedu  failures schoolsup famsup  absences  \\\n",
       "0     GP   F   18          2     4     4         0       yes     no         6   \n",
       "1     GP   F   17          2     1     1         0        no    yes         4   \n",
       "2     GP   F   15          2     1     1         3       yes     no        10   \n",
       "3     GP   F   15          3     4     2         0        no    yes         2   \n",
       "4     GP   F   16          2     3     3         0        no    yes         4   \n",
       "\n",
       "   famrel Pstatus  G1  G2  G3  \n",
       "0       4       A   5   6   6  \n",
       "1       5       T   5   5   6  \n",
       "2       4       T   7   8  10  \n",
       "3       3       T  15  14  15  \n",
       "4       4       T   6  10  10  "
      ]
     },
     "execution_count": 251,
     "metadata": {},
     "output_type": "execute_result"
    }
   ],
   "source": [
    "column_names = list(zip(*Variable_table))[0]\n",
    "# https://stackoverflow.com/a/66389509/13298307\n",
    "# store selected column in scores_df\n",
    "scores_df = Maths_Scores.filter(column_names)\n",
    "scores_df.head()"
   ]
  },
  {
   "cell_type": "code",
   "execution_count": 252,
   "id": "dd25aa21",
   "metadata": {},
   "outputs": [
    {
     "data": {
      "text/html": [
       "<div>\n",
       "<style scoped>\n",
       "    .dataframe tbody tr th:only-of-type {\n",
       "        vertical-align: middle;\n",
       "    }\n",
       "\n",
       "    .dataframe tbody tr th {\n",
       "        vertical-align: top;\n",
       "    }\n",
       "\n",
       "    .dataframe thead th {\n",
       "        text-align: right;\n",
       "    }\n",
       "</style>\n",
       "<table border=\"1\" class=\"dataframe\">\n",
       "  <thead>\n",
       "    <tr style=\"text-align: right;\">\n",
       "      <th></th>\n",
       "      <th>school</th>\n",
       "      <th>sex</th>\n",
       "      <th>age</th>\n",
       "      <th>study_time</th>\n",
       "      <th>medu</th>\n",
       "      <th>fedu</th>\n",
       "      <th>failures</th>\n",
       "      <th>school_sup</th>\n",
       "      <th>fam_sup</th>\n",
       "      <th>absences</th>\n",
       "      <th>fam_rel</th>\n",
       "      <th>p_status</th>\n",
       "      <th>g1</th>\n",
       "      <th>g2</th>\n",
       "      <th>g3</th>\n",
       "    </tr>\n",
       "  </thead>\n",
       "  <tbody>\n",
       "    <tr>\n",
       "      <th>123</th>\n",
       "      <td>GP</td>\n",
       "      <td>M</td>\n",
       "      <td>16</td>\n",
       "      <td>1</td>\n",
       "      <td>4</td>\n",
       "      <td>4</td>\n",
       "      <td>0</td>\n",
       "      <td>no</td>\n",
       "      <td>yes</td>\n",
       "      <td>18</td>\n",
       "      <td>3</td>\n",
       "      <td>T</td>\n",
       "      <td>14</td>\n",
       "      <td>11</td>\n",
       "      <td>13</td>\n",
       "    </tr>\n",
       "    <tr>\n",
       "      <th>151</th>\n",
       "      <td>GP</td>\n",
       "      <td>M</td>\n",
       "      <td>16</td>\n",
       "      <td>1</td>\n",
       "      <td>2</td>\n",
       "      <td>1</td>\n",
       "      <td>1</td>\n",
       "      <td>no</td>\n",
       "      <td>no</td>\n",
       "      <td>6</td>\n",
       "      <td>4</td>\n",
       "      <td>T</td>\n",
       "      <td>12</td>\n",
       "      <td>13</td>\n",
       "      <td>14</td>\n",
       "    </tr>\n",
       "    <tr>\n",
       "      <th>328</th>\n",
       "      <td>GP</td>\n",
       "      <td>F</td>\n",
       "      <td>17</td>\n",
       "      <td>3</td>\n",
       "      <td>4</td>\n",
       "      <td>4</td>\n",
       "      <td>0</td>\n",
       "      <td>no</td>\n",
       "      <td>yes</td>\n",
       "      <td>7</td>\n",
       "      <td>5</td>\n",
       "      <td>T</td>\n",
       "      <td>10</td>\n",
       "      <td>9</td>\n",
       "      <td>9</td>\n",
       "    </tr>\n",
       "    <tr>\n",
       "      <th>187</th>\n",
       "      <td>GP</td>\n",
       "      <td>M</td>\n",
       "      <td>16</td>\n",
       "      <td>2</td>\n",
       "      <td>2</td>\n",
       "      <td>1</td>\n",
       "      <td>0</td>\n",
       "      <td>no</td>\n",
       "      <td>no</td>\n",
       "      <td>0</td>\n",
       "      <td>4</td>\n",
       "      <td>T</td>\n",
       "      <td>15</td>\n",
       "      <td>15</td>\n",
       "      <td>15</td>\n",
       "    </tr>\n",
       "    <tr>\n",
       "      <th>156</th>\n",
       "      <td>GP</td>\n",
       "      <td>M</td>\n",
       "      <td>17</td>\n",
       "      <td>1</td>\n",
       "      <td>1</td>\n",
       "      <td>2</td>\n",
       "      <td>0</td>\n",
       "      <td>no</td>\n",
       "      <td>no</td>\n",
       "      <td>8</td>\n",
       "      <td>2</td>\n",
       "      <td>T</td>\n",
       "      <td>16</td>\n",
       "      <td>12</td>\n",
       "      <td>13</td>\n",
       "    </tr>\n",
       "  </tbody>\n",
       "</table>\n",
       "</div>"
      ],
      "text/plain": [
       "    school sex  age  study_time  medu  fedu  failures school_sup fam_sup  \\\n",
       "123     GP   M   16           1     4     4         0         no     yes   \n",
       "151     GP   M   16           1     2     1         1         no      no   \n",
       "328     GP   F   17           3     4     4         0         no     yes   \n",
       "187     GP   M   16           2     2     1         0         no      no   \n",
       "156     GP   M   17           1     1     2         0         no      no   \n",
       "\n",
       "     absences  fam_rel p_status  g1  g2  g3  \n",
       "123        18        3        T  14  11  13  \n",
       "151         6        4        T  12  13  14  \n",
       "328         7        5        T  10   9   9  \n",
       "187         0        4        T  15  15  15  \n",
       "156         8        2        T  16  12  13  "
      ]
     },
     "execution_count": 252,
     "metadata": {},
     "output_type": "execute_result"
    }
   ],
   "source": [
    "scores_df.columns = scores_df.columns.str.lower().str.strip()\n",
    "\n",
    "columns_mapping = {\n",
    "    'studytime': 'study_time',\n",
    "    'schoolsup': 'school_sup',\n",
    "    'famsup': 'fam_sup',\n",
    "    'famrel': 'fam_rel',\n",
    "    'pstatus': 'p_status'\n",
    "}\n",
    "\n",
    "# rename columns\n",
    "scores_df = scores_df.rename(columns=columns_mapping)\n",
    "scores_df.sample(5, random_state=999)"
   ]
  },
  {
   "cell_type": "code",
   "execution_count": 253,
   "id": "952b6159",
   "metadata": {},
   "outputs": [
    {
     "data": {
      "text/plain": [
       "GP    349\n",
       "MS     46\n",
       "Name: school, dtype: int64"
      ]
     },
     "execution_count": 253,
     "metadata": {},
     "output_type": "execute_result"
    }
   ],
   "source": [
    "scores_df.school.value_counts(dropna=False)"
   ]
  },
  {
   "cell_type": "code",
   "execution_count": 254,
   "id": "726bb82e",
   "metadata": {},
   "outputs": [
    {
     "data": {
      "text/plain": [
       "F    208\n",
       "M    187\n",
       "Name: sex, dtype: int64"
      ]
     },
     "execution_count": 254,
     "metadata": {},
     "output_type": "execute_result"
    }
   ],
   "source": [
    "scores_df.sex.value_counts(dropna=False)"
   ]
  },
  {
   "cell_type": "code",
   "execution_count": 255,
   "id": "ce46a541",
   "metadata": {},
   "outputs": [
    {
     "data": {
      "text/plain": [
       "T    354\n",
       "A     41\n",
       "Name: p_status, dtype: int64"
      ]
     },
     "execution_count": 255,
     "metadata": {},
     "output_type": "execute_result"
    }
   ],
   "source": [
    "scores_df.p_status.value_counts(dropna=False)"
   ]
  },
  {
   "cell_type": "code",
   "execution_count": 256,
   "id": "5315f679",
   "metadata": {},
   "outputs": [
    {
     "data": {
      "text/html": [
       "<div>\n",
       "<style scoped>\n",
       "    .dataframe tbody tr th:only-of-type {\n",
       "        vertical-align: middle;\n",
       "    }\n",
       "\n",
       "    .dataframe tbody tr th {\n",
       "        vertical-align: top;\n",
       "    }\n",
       "\n",
       "    .dataframe thead th {\n",
       "        text-align: right;\n",
       "    }\n",
       "</style>\n",
       "<table border=\"1\" class=\"dataframe\">\n",
       "  <thead>\n",
       "    <tr style=\"text-align: right;\">\n",
       "      <th></th>\n",
       "      <th>school</th>\n",
       "      <th>sex</th>\n",
       "      <th>age</th>\n",
       "      <th>study_time</th>\n",
       "      <th>medu</th>\n",
       "      <th>fedu</th>\n",
       "      <th>failures</th>\n",
       "      <th>school_sup</th>\n",
       "      <th>fam_sup</th>\n",
       "      <th>absences</th>\n",
       "      <th>fam_rel</th>\n",
       "      <th>p_status</th>\n",
       "      <th>g1</th>\n",
       "      <th>g2</th>\n",
       "      <th>g3</th>\n",
       "    </tr>\n",
       "  </thead>\n",
       "  <tbody>\n",
       "    <tr>\n",
       "      <th>0</th>\n",
       "      <td>0</td>\n",
       "      <td>0</td>\n",
       "      <td>18</td>\n",
       "      <td>2</td>\n",
       "      <td>4</td>\n",
       "      <td>4</td>\n",
       "      <td>0</td>\n",
       "      <td>1</td>\n",
       "      <td>0</td>\n",
       "      <td>6</td>\n",
       "      <td>4</td>\n",
       "      <td>0</td>\n",
       "      <td>5</td>\n",
       "      <td>6</td>\n",
       "      <td>6</td>\n",
       "    </tr>\n",
       "    <tr>\n",
       "      <th>1</th>\n",
       "      <td>0</td>\n",
       "      <td>0</td>\n",
       "      <td>17</td>\n",
       "      <td>2</td>\n",
       "      <td>1</td>\n",
       "      <td>1</td>\n",
       "      <td>0</td>\n",
       "      <td>0</td>\n",
       "      <td>1</td>\n",
       "      <td>4</td>\n",
       "      <td>5</td>\n",
       "      <td>1</td>\n",
       "      <td>5</td>\n",
       "      <td>5</td>\n",
       "      <td>6</td>\n",
       "    </tr>\n",
       "    <tr>\n",
       "      <th>2</th>\n",
       "      <td>0</td>\n",
       "      <td>0</td>\n",
       "      <td>15</td>\n",
       "      <td>2</td>\n",
       "      <td>1</td>\n",
       "      <td>1</td>\n",
       "      <td>3</td>\n",
       "      <td>1</td>\n",
       "      <td>0</td>\n",
       "      <td>10</td>\n",
       "      <td>4</td>\n",
       "      <td>1</td>\n",
       "      <td>7</td>\n",
       "      <td>8</td>\n",
       "      <td>10</td>\n",
       "    </tr>\n",
       "    <tr>\n",
       "      <th>3</th>\n",
       "      <td>0</td>\n",
       "      <td>0</td>\n",
       "      <td>15</td>\n",
       "      <td>3</td>\n",
       "      <td>4</td>\n",
       "      <td>2</td>\n",
       "      <td>0</td>\n",
       "      <td>0</td>\n",
       "      <td>1</td>\n",
       "      <td>2</td>\n",
       "      <td>3</td>\n",
       "      <td>1</td>\n",
       "      <td>15</td>\n",
       "      <td>14</td>\n",
       "      <td>15</td>\n",
       "    </tr>\n",
       "    <tr>\n",
       "      <th>4</th>\n",
       "      <td>0</td>\n",
       "      <td>0</td>\n",
       "      <td>16</td>\n",
       "      <td>2</td>\n",
       "      <td>3</td>\n",
       "      <td>3</td>\n",
       "      <td>0</td>\n",
       "      <td>0</td>\n",
       "      <td>1</td>\n",
       "      <td>4</td>\n",
       "      <td>4</td>\n",
       "      <td>1</td>\n",
       "      <td>6</td>\n",
       "      <td>10</td>\n",
       "      <td>10</td>\n",
       "    </tr>\n",
       "  </tbody>\n",
       "</table>\n",
       "</div>"
      ],
      "text/plain": [
       "   school  sex  age  study_time  medu  fedu  failures  school_sup  fam_sup  \\\n",
       "0       0    0   18           2     4     4         0           1        0   \n",
       "1       0    0   17           2     1     1         0           0        1   \n",
       "2       0    0   15           2     1     1         3           1        0   \n",
       "3       0    0   15           3     4     2         0           0        1   \n",
       "4       0    0   16           2     3     3         0           0        1   \n",
       "\n",
       "   absences  fam_rel  p_status  g1  g2  g3  \n",
       "0         6        4         0   5   6   6  \n",
       "1         4        5         1   5   5   6  \n",
       "2        10        4         1   7   8  10  \n",
       "3         2        3         1  15  14  15  \n",
       "4         4        4         1   6  10  10  "
      ]
     },
     "execution_count": 256,
     "metadata": {},
     "output_type": "execute_result"
    }
   ],
   "source": [
    "# label encoding named column values\n",
    "# https://www.jeremyjordan.me/preparing-data-for-a-machine-learning-model/\n",
    "# scores_df['school'] = scores_df['school'].map({\"GP\":0, \"MS\":1}) \n",
    "\n",
    "\n",
    "scores_df[\"school\"] = scores_df[\"school\"].replace(\"GP\",0).replace(\"MS\",1)\n",
    "scores_df[\"sex\"] = scores_df[\"sex\"].replace(\"F\",0).replace(\"M\",1)\n",
    "scores_df[\"p_status\"] = scores_df[\"p_status\"].replace(\"A\",0).replace(\"T\",1)\n",
    "scores_df[\"school_sup\"] = scores_df[\"school_sup\"].replace(\"no\",0).replace(\"yes\",1)\n",
    "scores_df[\"fam_sup\"] = scores_df[\"fam_sup\"].replace(\"no\",0).replace(\"yes\",1)\n",
    "scores_df.head()"
   ]
  },
  {
   "cell_type": "code",
   "execution_count": 257,
   "id": "284f5b03",
   "metadata": {},
   "outputs": [
    {
     "data": {
      "text/html": [
       "<div>\n",
       "<style scoped>\n",
       "    .dataframe tbody tr th:only-of-type {\n",
       "        vertical-align: middle;\n",
       "    }\n",
       "\n",
       "    .dataframe tbody tr th {\n",
       "        vertical-align: top;\n",
       "    }\n",
       "\n",
       "    .dataframe thead th {\n",
       "        text-align: right;\n",
       "    }\n",
       "</style>\n",
       "<table border=\"1\" class=\"dataframe\">\n",
       "  <thead>\n",
       "    <tr style=\"text-align: right;\">\n",
       "      <th></th>\n",
       "      <th>school</th>\n",
       "      <th>sex</th>\n",
       "      <th>age</th>\n",
       "      <th>study_time</th>\n",
       "      <th>medu</th>\n",
       "      <th>fedu</th>\n",
       "      <th>failures</th>\n",
       "      <th>school_sup</th>\n",
       "      <th>fam_sup</th>\n",
       "      <th>absences</th>\n",
       "      <th>fam_rel</th>\n",
       "      <th>p_status</th>\n",
       "      <th>g1</th>\n",
       "      <th>g2</th>\n",
       "      <th>g3</th>\n",
       "    </tr>\n",
       "  </thead>\n",
       "  <tbody>\n",
       "    <tr>\n",
       "      <th>count</th>\n",
       "      <td>395.000000</td>\n",
       "      <td>395.000000</td>\n",
       "      <td>395.000000</td>\n",
       "      <td>395.000000</td>\n",
       "      <td>395.000000</td>\n",
       "      <td>395.000000</td>\n",
       "      <td>395.000000</td>\n",
       "      <td>395.000000</td>\n",
       "      <td>395.000000</td>\n",
       "      <td>395.000000</td>\n",
       "      <td>395.000000</td>\n",
       "      <td>395.000000</td>\n",
       "      <td>395.000000</td>\n",
       "      <td>395.000000</td>\n",
       "      <td>395.000000</td>\n",
       "    </tr>\n",
       "    <tr>\n",
       "      <th>mean</th>\n",
       "      <td>0.116456</td>\n",
       "      <td>0.473418</td>\n",
       "      <td>16.696203</td>\n",
       "      <td>2.035443</td>\n",
       "      <td>2.749367</td>\n",
       "      <td>2.521519</td>\n",
       "      <td>0.334177</td>\n",
       "      <td>0.129114</td>\n",
       "      <td>0.612658</td>\n",
       "      <td>5.708861</td>\n",
       "      <td>3.944304</td>\n",
       "      <td>0.896203</td>\n",
       "      <td>10.908861</td>\n",
       "      <td>10.713924</td>\n",
       "      <td>10.415190</td>\n",
       "    </tr>\n",
       "    <tr>\n",
       "      <th>std</th>\n",
       "      <td>0.321177</td>\n",
       "      <td>0.499926</td>\n",
       "      <td>1.276043</td>\n",
       "      <td>0.839240</td>\n",
       "      <td>1.094735</td>\n",
       "      <td>1.088201</td>\n",
       "      <td>0.743651</td>\n",
       "      <td>0.335751</td>\n",
       "      <td>0.487761</td>\n",
       "      <td>8.003096</td>\n",
       "      <td>0.896659</td>\n",
       "      <td>0.305384</td>\n",
       "      <td>3.319195</td>\n",
       "      <td>3.761505</td>\n",
       "      <td>4.581443</td>\n",
       "    </tr>\n",
       "    <tr>\n",
       "      <th>min</th>\n",
       "      <td>0.000000</td>\n",
       "      <td>0.000000</td>\n",
       "      <td>15.000000</td>\n",
       "      <td>1.000000</td>\n",
       "      <td>0.000000</td>\n",
       "      <td>0.000000</td>\n",
       "      <td>0.000000</td>\n",
       "      <td>0.000000</td>\n",
       "      <td>0.000000</td>\n",
       "      <td>0.000000</td>\n",
       "      <td>1.000000</td>\n",
       "      <td>0.000000</td>\n",
       "      <td>3.000000</td>\n",
       "      <td>0.000000</td>\n",
       "      <td>0.000000</td>\n",
       "    </tr>\n",
       "    <tr>\n",
       "      <th>25%</th>\n",
       "      <td>0.000000</td>\n",
       "      <td>0.000000</td>\n",
       "      <td>16.000000</td>\n",
       "      <td>1.000000</td>\n",
       "      <td>2.000000</td>\n",
       "      <td>2.000000</td>\n",
       "      <td>0.000000</td>\n",
       "      <td>0.000000</td>\n",
       "      <td>0.000000</td>\n",
       "      <td>0.000000</td>\n",
       "      <td>4.000000</td>\n",
       "      <td>1.000000</td>\n",
       "      <td>8.000000</td>\n",
       "      <td>9.000000</td>\n",
       "      <td>8.000000</td>\n",
       "    </tr>\n",
       "    <tr>\n",
       "      <th>50%</th>\n",
       "      <td>0.000000</td>\n",
       "      <td>0.000000</td>\n",
       "      <td>17.000000</td>\n",
       "      <td>2.000000</td>\n",
       "      <td>3.000000</td>\n",
       "      <td>2.000000</td>\n",
       "      <td>0.000000</td>\n",
       "      <td>0.000000</td>\n",
       "      <td>1.000000</td>\n",
       "      <td>4.000000</td>\n",
       "      <td>4.000000</td>\n",
       "      <td>1.000000</td>\n",
       "      <td>11.000000</td>\n",
       "      <td>11.000000</td>\n",
       "      <td>11.000000</td>\n",
       "    </tr>\n",
       "    <tr>\n",
       "      <th>75%</th>\n",
       "      <td>0.000000</td>\n",
       "      <td>1.000000</td>\n",
       "      <td>18.000000</td>\n",
       "      <td>2.000000</td>\n",
       "      <td>4.000000</td>\n",
       "      <td>3.000000</td>\n",
       "      <td>0.000000</td>\n",
       "      <td>0.000000</td>\n",
       "      <td>1.000000</td>\n",
       "      <td>8.000000</td>\n",
       "      <td>5.000000</td>\n",
       "      <td>1.000000</td>\n",
       "      <td>13.000000</td>\n",
       "      <td>13.000000</td>\n",
       "      <td>14.000000</td>\n",
       "    </tr>\n",
       "    <tr>\n",
       "      <th>max</th>\n",
       "      <td>1.000000</td>\n",
       "      <td>1.000000</td>\n",
       "      <td>22.000000</td>\n",
       "      <td>4.000000</td>\n",
       "      <td>4.000000</td>\n",
       "      <td>4.000000</td>\n",
       "      <td>3.000000</td>\n",
       "      <td>1.000000</td>\n",
       "      <td>1.000000</td>\n",
       "      <td>75.000000</td>\n",
       "      <td>5.000000</td>\n",
       "      <td>1.000000</td>\n",
       "      <td>19.000000</td>\n",
       "      <td>19.000000</td>\n",
       "      <td>20.000000</td>\n",
       "    </tr>\n",
       "  </tbody>\n",
       "</table>\n",
       "</div>"
      ],
      "text/plain": [
       "           school         sex         age  study_time        medu        fedu  \\\n",
       "count  395.000000  395.000000  395.000000  395.000000  395.000000  395.000000   \n",
       "mean     0.116456    0.473418   16.696203    2.035443    2.749367    2.521519   \n",
       "std      0.321177    0.499926    1.276043    0.839240    1.094735    1.088201   \n",
       "min      0.000000    0.000000   15.000000    1.000000    0.000000    0.000000   \n",
       "25%      0.000000    0.000000   16.000000    1.000000    2.000000    2.000000   \n",
       "50%      0.000000    0.000000   17.000000    2.000000    3.000000    2.000000   \n",
       "75%      0.000000    1.000000   18.000000    2.000000    4.000000    3.000000   \n",
       "max      1.000000    1.000000   22.000000    4.000000    4.000000    4.000000   \n",
       "\n",
       "         failures  school_sup     fam_sup    absences     fam_rel    p_status  \\\n",
       "count  395.000000  395.000000  395.000000  395.000000  395.000000  395.000000   \n",
       "mean     0.334177    0.129114    0.612658    5.708861    3.944304    0.896203   \n",
       "std      0.743651    0.335751    0.487761    8.003096    0.896659    0.305384   \n",
       "min      0.000000    0.000000    0.000000    0.000000    1.000000    0.000000   \n",
       "25%      0.000000    0.000000    0.000000    0.000000    4.000000    1.000000   \n",
       "50%      0.000000    0.000000    1.000000    4.000000    4.000000    1.000000   \n",
       "75%      0.000000    0.000000    1.000000    8.000000    5.000000    1.000000   \n",
       "max      3.000000    1.000000    1.000000   75.000000    5.000000    1.000000   \n",
       "\n",
       "               g1          g2          g3  \n",
       "count  395.000000  395.000000  395.000000  \n",
       "mean    10.908861   10.713924   10.415190  \n",
       "std      3.319195    3.761505    4.581443  \n",
       "min      3.000000    0.000000    0.000000  \n",
       "25%      8.000000    9.000000    8.000000  \n",
       "50%     11.000000   11.000000   11.000000  \n",
       "75%     13.000000   13.000000   14.000000  \n",
       "max     19.000000   19.000000   20.000000  "
      ]
     },
     "execution_count": 257,
     "metadata": {},
     "output_type": "execute_result"
    }
   ],
   "source": [
    "scores_df.describe()"
   ]
  },
  {
   "cell_type": "code",
   "execution_count": 258,
   "id": "78c0ab34",
   "metadata": {},
   "outputs": [
    {
     "name": "stdout",
     "output_type": "stream",
     "text": [
      "<class 'pandas.core.frame.DataFrame'>\n",
      "RangeIndex: 395 entries, 0 to 394\n",
      "Data columns (total 15 columns):\n",
      " #   Column      Non-Null Count  Dtype\n",
      "---  ------      --------------  -----\n",
      " 0   school      395 non-null    int64\n",
      " 1   sex         395 non-null    int64\n",
      " 2   age         395 non-null    int64\n",
      " 3   study_time  395 non-null    int64\n",
      " 4   medu        395 non-null    int64\n",
      " 5   fedu        395 non-null    int64\n",
      " 6   failures    395 non-null    int64\n",
      " 7   school_sup  395 non-null    int64\n",
      " 8   fam_sup     395 non-null    int64\n",
      " 9   absences    395 non-null    int64\n",
      " 10  fam_rel     395 non-null    int64\n",
      " 11  p_status    395 non-null    int64\n",
      " 12  g1          395 non-null    int64\n",
      " 13  g2          395 non-null    int64\n",
      " 14  g3          395 non-null    int64\n",
      "dtypes: int64(15)\n",
      "memory usage: 46.4 KB\n"
     ]
    }
   ],
   "source": [
    "scores_df.info()"
   ]
  },
  {
   "cell_type": "code",
   "execution_count": 259,
   "id": "f1ae3414",
   "metadata": {},
   "outputs": [
    {
     "name": "stdout",
     "output_type": "stream",
     "text": [
      "school        0\n",
      "sex           0\n",
      "age           0\n",
      "study_time    0\n",
      "medu          0\n",
      "fedu          0\n",
      "failures      0\n",
      "school_sup    0\n",
      "fam_sup       0\n",
      "absences      0\n",
      "fam_rel       0\n",
      "p_status      0\n",
      "g1            0\n",
      "g2            0\n",
      "g3            0\n",
      "dtype: int64\n"
     ]
    }
   ],
   "source": [
    "print(scores_df.isnull().sum())"
   ]
  },
  {
   "cell_type": "markdown",
   "id": "7680965b",
   "metadata": {},
   "source": [
    "All the min and max values of the selected column are in correct range so we don't have any outliers in the data."
   ]
  },
  {
   "cell_type": "markdown",
   "id": "22d0c972",
   "metadata": {},
   "source": [
    "## Data Exploration & Visualisation <a id=\"DataExploration&Visualisation\"></a>"
   ]
  },
  {
   "cell_type": "markdown",
   "id": "0213f8f1",
   "metadata": {},
   "source": [
    "Since, we have cleared and preprocessed our data according to our goal now we are going to explore and visualise the important features of the dataset."
   ]
  },
  {
   "cell_type": "markdown",
   "id": "d977bc90",
   "metadata": {},
   "source": [
    "## Univariate visualisation of important variables"
   ]
  },
  {
   "cell_type": "markdown",
   "id": "35f03675",
   "metadata": {},
   "source": [
    "### Histogram of studytime of students"
   ]
  },
  {
   "cell_type": "markdown",
   "id": "ad930c0e",
   "metadata": {},
   "source": [
    "As we can see from the histogram below, 2 hours is the most comman studytime among students."
   ]
  },
  {
   "cell_type": "code",
   "execution_count": 260,
   "id": "ac6043d2",
   "metadata": {},
   "outputs": [
    {
     "data": {
      "image/png": "[encoded data removed]",
      "text/plain": [
       "<Figure size 1080x576 with 1 Axes>"
      ]
     },
     "metadata": {
      "needs_background": "light"
     },
     "output_type": "display_data"
    }
   ],
   "source": [
    "plt.figure(figsize = (15, 8))\n",
    "data = scores_df['study_time']\n",
    "sns.histplot(data)\n",
    "\n",
    "plt.xticks(range(1,5), [\"<2 hours\", \"2 to 5 hours\", \"5 to 10 hours\", \">10 hours\"])\n",
    "plt.ylabel('No of Students', fontsize = 15)\n",
    "plt.xlabel('Study time category', fontsize = 15)\n",
    "plt.title('Students per Study time category', fontsize = 20)\n",
    "plt.show()"
   ]
  },
  {
   "cell_type": "markdown",
   "id": "afedaad4",
   "metadata": {},
   "source": [
    "### Boxplot of Students  Maths Grades"
   ]
  },
  {
   "cell_type": "markdown",
   "id": "06e43590",
   "metadata": {},
   "source": [
    "As we can see from the boxplots of math grades throughout term1, term2 and term3,  the median math grade of the class has roughly been between 10 and 11."
   ]
  },
  {
   "cell_type": "code",
   "execution_count": 261,
   "id": "80d5aa10",
   "metadata": {},
   "outputs": [
    {
     "data": {
      "image/png": "[encoded data removed]",
      "text/plain": [
       "<Figure size 1296x432 with 3 Axes>"
      ]
     },
     "metadata": {
      "needs_background": "light"
     },
     "output_type": "display_data"
    }
   ],
   "source": [
    "plt.figure(figsize = (18, 6))\n",
    "\n",
    "plt.subplot(1, 3, 1)\n",
    "plt.ylim(0, 20)\n",
    "plt.boxplot(x = scores_df.g1)\n",
    "plt.xticks([])\n",
    "plt.ylabel('Student Grades', fontsize = 12)\n",
    "plt.title('G1', fontsize = 15)\n",
    "\n",
    "plt.subplot(1, 3, 2)\n",
    "plt.ylim(0, 20)\n",
    "plt.boxplot(x = scores_df.g2)\n",
    "plt.xticks([])\n",
    "plt.ylabel('Student Grades', fontsize = 12)\n",
    "plt.title('G2', fontsize = 15)\n",
    "\n",
    "plt.subplot(1, 3, 3)\n",
    "plt.ylim(0, 20)\n",
    "plt.boxplot(x = scores_df.g3)\n",
    "plt.xticks([])\n",
    "plt.ylabel('Student Grades', fontsize = 12)\n",
    "plt.title('G3', fontsize = 15)\n",
    "\n",
    "plt.show()"
   ]
  },
  {
   "cell_type": "markdown",
   "id": "7ffcdd04",
   "metadata": {},
   "source": [
    "### Pie chart of relativie proportion of Male vs Female in the class"
   ]
  },
  {
   "cell_type": "markdown",
   "id": "a9fe49c8",
   "metadata": {},
   "source": [
    "As we can see from the pie chart there is a relative equal distribution of Male vs Female students in the class."
   ]
  },
  {
   "cell_type": "code",
   "execution_count": 262,
   "id": "00a1272e",
   "metadata": {},
   "outputs": [
    {
     "data": {
      "image/png": "[encoded data removed]",
      "text/plain": [
       "<Figure size 432x288 with 1 Axes>"
      ]
     },
     "metadata": {},
     "output_type": "display_data"
    }
   ],
   "source": [
    "scores_df['sex'].value_counts().plot(kind= 'pie', autopct='%.1f', title = 'Proportion of Male vs Female in class', fontsize = 15)\n",
    "plt.legend(['Female', 'Male'])\n",
    "plt.show();"
   ]
  },
  {
   "cell_type": "markdown",
   "id": "7cbcaf0f",
   "metadata": {},
   "source": [
    "### Histogram of absences of students"
   ]
  },
  {
   "cell_type": "markdown",
   "id": "9a24346d",
   "metadata": {},
   "source": [
    "As we can see from the histogram below, most of the students have less than 10 days of absence."
   ]
  },
  {
   "cell_type": "code",
   "execution_count": 263,
   "id": "2364d2b7",
   "metadata": {},
   "outputs": [
    {
     "data": {
      "image/png": "[encoded data removed]",
      "text/plain": [
       "<Figure size 360x360 with 1 Axes>"
      ]
     },
     "metadata": {
      "needs_background": "light"
     },
     "output_type": "display_data"
    }
   ],
   "source": [
    "sns.displot(scores_df['absences'], kde = True, bins = 10)\n",
    "plt.title('Absences of Students', fontsize = 20)\n",
    "plt.xlabel('No of Absences', fontsize = 15)\n",
    "plt.ylabel('No of Students', fontsize = 15)\n",
    "plt.show();"
   ]
  },
  {
   "cell_type": "markdown",
   "id": "1655454e",
   "metadata": {},
   "source": [
    "### Barchart of parents level of education"
   ]
  },
  {
   "cell_type": "markdown",
   "id": "6b2a7b95",
   "metadata": {},
   "source": [
    "Below, is are barcharts representing the level of education of each parent separately, we can see from the graph that most of the students have parents who have education upto middle grade or above(i.e 2 or above)."
   ]
  },
  {
   "cell_type": "code",
   "execution_count": 264,
   "id": "c16380c9",
   "metadata": {},
   "outputs": [
    {
     "data": {
      "image/png": "[encoded data removed]",
      "text/plain": [
       "<Figure size 1440x576 with 2 Axes>"
      ]
     },
     "metadata": {
      "needs_background": "light"
     },
     "output_type": "display_data"
    }
   ],
   "source": [
    "plt.figure(figsize = (20, 8))\n",
    "\n",
    "plt.subplot(1, 2, 1)\n",
    "sns.countplot(x = 'fedu', data = scores_df)\n",
    "plt.xlabel('Level of Education', fontsize = 15)\n",
    "plt.ylabel('Count', fontsize = 15)\n",
    "plt.title('Fathers level of Education', fontsize = 20)\n",
    "\n",
    "plt.subplot(1, 2, 2)\n",
    "sns.countplot(x = 'medu', data = scores_df )\n",
    "plt.xlabel('Level of Education', fontsize = 15)\n",
    "plt.ylabel('Count', fontsize = 15)\n",
    "plt.title('Mothers level of Education', fontsize = 20)\n",
    "\n",
    "plt.show();"
   ]
  },
  {
   "cell_type": "markdown",
   "id": "7a700724",
   "metadata": {},
   "source": [
    "### Pie chart representing the proportion of students in proportion to the number of courses they failed"
   ]
  },
  {
   "cell_type": "markdown",
   "id": "e0557345",
   "metadata": {},
   "source": [
    "From the pie chart given below we can see that nearly 79 percent of students haven't failed in even a single course."
   ]
  },
  {
   "cell_type": "code",
   "execution_count": 265,
   "id": "045e82de",
   "metadata": {},
   "outputs": [
    {
     "data": {
      "image/png": "[encoded data removed]",
      "text/plain": [
       "<Figure size 864x576 with 1 Axes>"
      ]
     },
     "metadata": {},
     "output_type": "display_data"
    }
   ],
   "source": [
    "plt.figure(figsize = (12, 8))\n",
    "scores_df['failures'].value_counts().plot(kind= 'pie', autopct='%.1f', fontsize = 15, )\n",
    "plt.title('Proportion of Students acc. to Courses Failed', fontsize = 20)\n",
    "plt.ylabel('')\n",
    "plt.legend(loc ='lower right')\n",
    "plt.show();"
   ]
  },
  {
   "cell_type": "markdown",
   "id": "4bd8e7da",
   "metadata": {},
   "source": [
    "### Bar chart representing the proportion of students for each value in g3, failures, absences, fam_rel and p_status"
   ]
  },
  {
   "cell_type": "code",
   "execution_count": 266,
   "id": "90187c30",
   "metadata": {},
   "outputs": [
    {
     "name": "stdout",
     "output_type": "stream",
     "text": [
      "We can see from the bar plot below that most of the students are passing with 10 marks and similarly most of them are failing with 0 marks, most of the students get in the range of 8-15 marks.\n"
     ]
    },
    {
     "data": {
      "image/png": "[encoded data removed]",
      "text/plain": [
       "<Figure size 432x288 with 1 Axes>"
      ]
     },
     "metadata": {
      "needs_background": "light"
     },
     "output_type": "display_data"
    },
    {
     "name": "stdout",
     "output_type": "stream",
     "text": [
      "We can see from the bar plot below that most of the students haven't failed any courses and some of them have faield a few courses.\n"
     ]
    },
    {
     "data": {
      "image/png": "[encoded data removed]",
      "text/plain": [
       "<Figure size 432x288 with 1 Axes>"
      ]
     },
     "metadata": {
      "needs_background": "light"
     },
     "output_type": "display_data"
    },
    {
     "name": "stdout",
     "output_type": "stream",
     "text": [
      "We can see from the bar plot below that many of the students have full attendance with 0 absence and most of the students have good attendance with few absences.\n"
     ]
    },
    {
     "data": {
      "image/png": "[encoded data removed]",
      "text/plain": [
       "<Figure size 432x288 with 1 Axes>"
      ]
     },
     "metadata": {
      "needs_background": "light"
     },
     "output_type": "display_data"
    },
    {
     "name": "stdout",
     "output_type": "stream",
     "text": [
      "We can see from the bar plot below that most of the students have neutral, good or excellent family relationships and some of the students have very bad or bad family relationships.\n"
     ]
    },
    {
     "data": {
      "image/png": "[encoded data removed]",
      "text/plain": [
       "<Figure size 432x288 with 1 Axes>"
      ]
     },
     "metadata": {
      "needs_background": "light"
     },
     "output_type": "display_data"
    },
    {
     "name": "stdout",
     "output_type": "stream",
     "text": [
      "We can see from the bar plot below that most of the students are living together with their parents and some of them are living apart.\n"
     ]
    },
    {
     "data": {
      "image/png": "[encoded data removed]",
      "text/plain": [
       "<Figure size 432x288 with 1 Axes>"
      ]
     },
     "metadata": {
      "needs_background": "light"
     },
     "output_type": "display_data"
    }
   ],
   "source": [
    "plot_cols = [\"g3\", \"failures\",\"absences\",\"fam_rel\",\"p_status\"]\n",
    "comments = [\n",
    "    \"\"\"We can see from the bar plot below that most of the students are passing with 10 marks and similarly most of them are failing with 0 marks, most of the students get in the range of 8-15 marks.\"\"\",\n",
    "    \"\"\"We can see from the bar plot below that most of the students haven't failed any courses and some of them have faield a few courses.\"\"\",\n",
    "    \"\"\"We can see from the bar plot below that many of the students have full attendance with 0 absence and most of the students have good attendance with few absences.\"\"\",\n",
    "    \"\"\"We can see from the bar plot below that most of the students have neutral, good or excellent family relationships and some of the students have very bad or bad family relationships.\"\"\",\n",
    "    \"\"\"We can see from the bar plot below that most of the students are living together with their parents and some of them are living apart.\"\"\"\n",
    "]\n",
    "for id, col in enumerate(plot_cols):\n",
    "    size_series = scores_df.groupby([col]).size()\n",
    "    x_labels = size_series.index\n",
    "    title = f\"Student per {col.capitalize()}\"\n",
    "    if col == \"fam_rel\":\n",
    "        title = \"Student per quality of family relationships \"\n",
    "        x_labels = [\"very bad\", \"bad\", \"neutral\", \"good\", \"excellent\"]\n",
    "    elif col == \"p_status\":\n",
    "        title = \"Student per parent's cohabitation status \"\n",
    "        x_labels = [\"Apart\",\"Living Together\"]\n",
    "\n",
    "    print(comments[id])\n",
    "    splot = sns.barplot(x=x_labels, y=size_series)\n",
    "    # https://datavizpyr.com/annotate-barplot-with-bar_label-in-matplotlib/\n",
    "    if col not in [\"absences\"]:\n",
    "        plt.bar_label(splot.containers[0],size=10,label_type='center')\n",
    "    plt.title(title)\n",
    "    plt.show()"
   ]
  },
  {
   "cell_type": "markdown",
   "id": "9c558fcb",
   "metadata": {},
   "source": [
    "## Two-Variable Visualisaiton  of goal-oriented data comparisions"
   ]
  },
  {
   "cell_type": "markdown",
   "id": "1dd536f1",
   "metadata": {},
   "source": [
    "Now, we'd like to show you some interesting two-variable visualisation of the dataset."
   ]
  },
  {
   "cell_type": "markdown",
   "id": "ab6efa92",
   "metadata": {},
   "source": [
    "### Boxplot of Students Marks broken according to gender"
   ]
  },
  {
   "cell_type": "markdown",
   "id": "1446025f",
   "metadata": {},
   "source": [
    "As we can see from boxplot below, that Male students have a slightly higher score compared to the Female students."
   ]
  },
  {
   "cell_type": "code",
   "execution_count": 267,
   "id": "61ba2e6a",
   "metadata": {},
   "outputs": [
    {
     "data": {
      "image/png": "[encoded data removed]",
      "text/plain": [
       "<Figure size 864x504 with 1 Axes>"
      ]
     },
     "metadata": {
      "needs_background": "light"
     },
     "output_type": "display_data"
    }
   ],
   "source": [
    "plt.figure(figsize = (12, 7))\n",
    "sns.boxplot(x = 'sex', y = 'g3', data = scores_df)\n",
    "plt.title('Students Marks according to gender', fontsize = 20)\n",
    "plt.xticks(range(2), [\"Female\", \"Male\"])\n",
    "plt.xlabel('Gender', fontsize = 15)\n",
    "plt.ylabel('Scores', fontsize = 15)\n",
    "plt.show();"
   ]
  },
  {
   "cell_type": "markdown",
   "id": "3b2bd1a6",
   "metadata": {},
   "source": [
    "### Boxplots of Marks compared to Study time"
   ]
  },
  {
   "cell_type": "markdown",
   "id": "75d67943",
   "metadata": {},
   "source": [
    "As we can clearly see from the boxplots below that students who tend to dedicate more hours for studies tend to score more marks."
   ]
  },
  {
   "cell_type": "code",
   "execution_count": 268,
   "id": "2c624944",
   "metadata": {},
   "outputs": [
    {
     "data": {
      "image/png": "[encoded data removed]",
      "text/plain": [
       "<Figure size 864x504 with 1 Axes>"
      ]
     },
     "metadata": {
      "needs_background": "light"
     },
     "output_type": "display_data"
    }
   ],
   "source": [
    "plt.figure(figsize = (12, 7))\n",
    "sns.boxplot(x = 'study_time', y = 'g3', data = scores_df)\n",
    "plt.title('Marks compared to Study Time category of Students', fontsize = 20)\n",
    "\n",
    "plt.xticks(range(4), [\"<2 hours\", \"2 to 5 hours\", \"5 to 10 hours\", \">10 hours\"])\n",
    "plt.xlabel('Study Time category', fontsize = 15)\n",
    "plt.ylabel('Scores', fontsize = 15)\n",
    "plt.show();\n"
   ]
  },
  {
   "cell_type": "markdown",
   "id": "bcdd5141",
   "metadata": {},
   "source": [
    "## Scatterplot to compare marks of students to the no. of absences"
   ]
  },
  {
   "cell_type": "markdown",
   "id": "dc67b982",
   "metadata": {},
   "source": [
    "As we can see from the scatterplot that a student who has more No. of absences is more likely to score less."
   ]
  },
  {
   "cell_type": "code",
   "execution_count": 269,
   "id": "e8820ab6",
   "metadata": {},
   "outputs": [
    {
     "data": {
      "image/png": "[encoded data removed]",
      "text/plain": [
       "<Figure size 432x432 with 3 Axes>"
      ]
     },
     "metadata": {
      "needs_background": "light"
     },
     "output_type": "display_data"
    }
   ],
   "source": [
    "sns.jointplot(x=\"absences\", y=\"g3\", data=scores_df);\n",
    "plt.show();"
   ]
  },
  {
   "cell_type": "markdown",
   "id": "a3331a30",
   "metadata": {},
   "source": [
    "## Boxplot to compare Student marks to quality of family relationship"
   ]
  },
  {
   "cell_type": "markdown",
   "id": "335eb899",
   "metadata": {},
   "source": [
    "From the give Boxplot we can clearly see there is no significant difference between the marks a student obtains and the quality of their family relationships."
   ]
  },
  {
   "cell_type": "code",
   "execution_count": 270,
   "id": "dafcf6fd",
   "metadata": {},
   "outputs": [
    {
     "data": {
      "image/png": "[encoded data removed]",
      "text/plain": [
       "<Figure size 864x504 with 1 Axes>"
      ]
     },
     "metadata": {
      "needs_background": "light"
     },
     "output_type": "display_data"
    }
   ],
   "source": [
    "plt.figure(figsize = (12, 7))\n",
    "sns.boxplot(x = 'fam_rel', y = 'g3', data = scores_df)\n",
    "plt.xticks(range(5), [\"very bad\", \"bad\", \"neutral\", \"good\", \"excellent\"])\n",
    "plt.title('Marks compared to quality of family relationship', fontsize = 20)\n",
    "plt.xlabel('Quality of Family Relationships', fontsize = 15)\n",
    "plt.ylabel('Scores', fontsize = 15)\n",
    "plt.show();\n"
   ]
  },
  {
   "cell_type": "markdown",
   "id": "ff1dc7e6",
   "metadata": {},
   "source": [
    "## Line chart to compare the performance of students based on their School"
   ]
  },
  {
   "cell_type": "markdown",
   "id": "35d9c730",
   "metadata": {},
   "source": [
    "We can deduce from the graph below that there is no significant difference between performance of students from both the schools."
   ]
  },
  {
   "cell_type": "code",
   "execution_count": 271,
   "id": "5d2454b5",
   "metadata": {},
   "outputs": [
    {
     "data": {
      "image/png": "[encoded data removed]",
      "text/plain": [
       "<Figure size 1296x432 with 1 Axes>"
      ]
     },
     "metadata": {
      "needs_background": "light"
     },
     "output_type": "display_data"
    }
   ],
   "source": [
    "No_Std_GP = scores_df[scores_df['school'] == 0]['g3'].shape[0] # GP school data\n",
    "No_Std_MS = scores_df[scores_df['school'] == 1]['g3'].shape[0] # MS school data\n",
    "\n",
    "data_GP = scores_df[scores_df['school'] == 0]['g3'].value_counts().sort_index()/No_Std_GP\n",
    "data_MS = scores_df[scores_df['school'] == 1]['g3'].value_counts().sort_index()/No_Std_MS\n",
    "\n",
    "plt.figure(figsize = (18, 6))\n",
    "plt.plot(data_GP, color = 'green',label = \"GP School\")\n",
    "plt.plot(data_MS, color = 'red',label = \"MS School\")\n",
    "\n",
    "plt.title(\"Performance of students based on their School\", fontsize = 20)\n",
    "plt.xlabel(\"Marks\", fontsize = 15)\n",
    "plt.ylabel(\"Percent of Student\", fontsize = 15)\n",
    "plt.legend(loc = 'upper right', fontsize = 20)\n",
    "\n",
    "plt.show();"
   ]
  },
  {
   "cell_type": "markdown",
   "id": "58a8b385",
   "metadata": {},
   "source": [
    "## Histogram to compare marks of students with and without extra educational support from their families or school"
   ]
  },
  {
   "cell_type": "markdown",
   "id": "b7c296d0",
   "metadata": {},
   "source": [
    "It can be clearly deduced that a larger proportion of students who don't have extra educational support from their family or school tend to do achieve more marks."
   ]
  },
  {
   "cell_type": "code",
   "execution_count": 272,
   "id": "ad9c6a63",
   "metadata": {},
   "outputs": [
    {
     "data": {
      "image/png": "[encoded data removed]",
      "text/plain": [
       "<Figure size 432x288 with 1 Axes>"
      ]
     },
     "metadata": {
      "needs_background": "light"
     },
     "output_type": "display_data"
    }
   ],
   "source": [
    "data_sup  = scores_df[(scores_df['fam_sup'] == 1) & (scores_df['school_sup'] == 1)]['g3']\n",
    "sns.distplot(data_sup, kde = True, bins = 10, color = 'r')\n",
    "\n",
    "data_nosup  = scores_df[(scores_df['fam_sup'] == 0) & (scores_df['school_sup'] == 0)]['g3']\n",
    "sns.distplot(data_nosup, kde = True, bins = 10, color = 'g')\n",
    "\n",
    "plt.xlim(0, None)\n",
    "plt.title('Comparision of Marks of Students with and without extra educational support', fontsize = 20)\n",
    "plt.xlabel('Marks', fontsize = 15)\n",
    "plt.ylabel('Proportion of Students', fontsize = 15)\n",
    "plt.show();"
   ]
  },
  {
   "cell_type": "markdown",
   "id": "04c78f5c",
   "metadata": {},
   "source": [
    "## Three-Variable Visualisation"
   ]
  },
  {
   "cell_type": "markdown",
   "id": "b4488299",
   "metadata": {},
   "source": [
    "## Scatterplot of normalized student count by g3 for each school"
   ]
  },
  {
   "cell_type": "markdown",
   "id": "b28f248e",
   "metadata": {},
   "source": [
    "As we can see in the scatterplot graph that a larger proportion of students from the GP School have scored better marks, thus we can deduce that schools affects the marks of a student"
   ]
  },
  {
   "cell_type": "code",
   "execution_count": 273,
   "id": "d40043d4",
   "metadata": {},
   "outputs": [
    {
     "data": {
      "image/png": "[encoded data removed]",
      "text/plain": [
       "<Figure size 432x432 with 3 Axes>"
      ]
     },
     "metadata": {
      "needs_background": "light"
     },
     "output_type": "display_data"
    },
    {
     "data": {
      "image/png": "[encoded data removed]",
      "text/plain": [
       "<Figure size 432x432 with 3 Axes>"
      ]
     },
     "metadata": {
      "needs_background": "light"
     },
     "output_type": "display_data"
    }
   ],
   "source": [
    "No_Std_GP = scores_df[scores_df['school'] == 0]['g3'].shape[0]\n",
    "No_Std_MS = scores_df[scores_df['school'] == 1]['g3'].shape[0]\n",
    "\n",
    "data_GP = scores_df[scores_df['school'] == 0]['g3'].value_counts().sort_index()/No_Std_GP\n",
    "data_MS = scores_df[scores_df['school'] == 1]['g3'].value_counts().sort_index()/No_Std_MS\n",
    "\n",
    "new_data_GP = pd.DataFrame({'Prop Students': data_GP, 'Marks': data_GP.index.tolist()})\n",
    "new_data_MS = pd.DataFrame({'Prop Students': data_MS, 'Marks': data_MS.index.tolist()})\n",
    "\n",
    "sns.jointplot(x = 'Marks', y = 'Prop Students', data = new_data_GP)\n",
    "sns.jointplot(x = 'Marks', y = 'Prop Students', data = new_data_MS, color = 'red')\n",
    "plt.show();"
   ]
  },
  {
   "cell_type": "markdown",
   "id": "b4c255ad",
   "metadata": {},
   "source": [
    "## Scatterplot of G3 grades by parents education level and parents gender"
   ]
  },
  {
   "cell_type": "markdown",
   "id": "d3c1ce4f",
   "metadata": {},
   "source": [
    "It is clear from the figure below that the level of parents education does not affect the grades of their children."
   ]
  },
  {
   "cell_type": "code",
   "execution_count": 274,
   "id": "c2eb7c02",
   "metadata": {},
   "outputs": [
    {
     "data": {
      "image/png": "[encoded data removed]",
      "text/plain": [
       "<Figure size 720x360 with 2 Axes>"
      ]
     },
     "metadata": {
      "needs_background": "light"
     },
     "output_type": "display_data"
    }
   ],
   "source": [
    "dfm = scores_df.melt(id_vars=['g3'],value_vars=['medu','fedu'], value_name='parents edu level')\n",
    "p=sns.relplot(x='parents edu level',\n",
    "            y='g3',\n",
    "            col='variable',\n",
    "            data=dfm);\n"
   ]
  },
  {
   "cell_type": "markdown",
   "id": "86f11669",
   "metadata": {},
   "source": [
    "## Bloxplot of Grades against Term and Gender of Students"
   ]
  },
  {
   "cell_type": "markdown",
   "id": "59e8f925",
   "metadata": {},
   "source": [
    "As we can see that male students have performed better than female students in every term."
   ]
  },
  {
   "cell_type": "code",
   "execution_count": 275,
   "id": "e8357442",
   "metadata": {
    "scrolled": false
   },
   "outputs": [
    {
     "data": {
      "image/png": "[encoded data removed]",
      "text/plain": [
       "<Figure size 432x288 with 1 Axes>"
      ]
     },
     "metadata": {
      "needs_background": "light"
     },
     "output_type": "display_data"
    }
   ],
   "source": [
    "df = scores_df.copy(deep=True)\n",
    "dfm=df.melt(id_vars=[\"sex\"],value_vars=[\"g1\",\"g2\",\"g3\"],var_name=\"Term\",value_name=\"Grades\")\n",
    "#dfm.replace('M',1,inplace=True)\n",
    "#dfm.replace('F',0,inplace=True)\n",
    "p=sns.boxplot(x=\"Term\",\n",
    "              y=\"Grades\",\n",
    "              hue=\"sex\",\n",
    "              data=dfm);\n",
    "             \n",
    "# plt.bar_label([\"female\", \"male\"])\n",
    "p.legend(bbox_to_anchor=(1.05,1),loc=2,title=\"Gender\");\n"
   ]
  },
  {
   "cell_type": "markdown",
   "id": "b9353c57",
   "metadata": {},
   "source": [
    "## Scatterplot of studytime against age and gender of students"
   ]
  },
  {
   "cell_type": "markdown",
   "id": "3b6b2280",
   "metadata": {},
   "source": [
    "It is clear from the scatter plot below that average of female students is less than the average of male students.Also younger students tend to spen less time on study as compared to older students."
   ]
  },
  {
   "cell_type": "code",
   "execution_count": 276,
   "id": "d78d035c",
   "metadata": {},
   "outputs": [
    {
     "data": {
      "image/png": "[encoded data removed]",
      "text/plain": [
       "<Figure size 402.375x360 with 1 Axes>"
      ]
     },
     "metadata": {
      "needs_background": "light"
     },
     "output_type": "display_data"
    }
   ],
   "source": [
    "sns.relplot(x=\"age\",\n",
    "            y=\"study_time\",\n",
    "            hue=\"sex\",\n",
    "            alpha=0.5,\n",
    "            data=scores_df);\n",
    "plt.xlim(None,25);\n",
    "plt.ylim(None,6);"
   ]
  },
  {
   "cell_type": "markdown",
   "id": "bc21b654",
   "metadata": {},
   "source": [
    "## Historgram of Number of Students to Family Relation and Family Support"
   ]
  },
  {
   "cell_type": "markdown",
   "id": "66ab327e",
   "metadata": {},
   "source": [
    "Students that have better family relation tend to get more family support when it comes to their studies."
   ]
  },
  {
   "cell_type": "code",
   "execution_count": 277,
   "id": "25e74416",
   "metadata": {},
   "outputs": [
    {
     "data": {
      "image/png": "[encoded data removed]",
      "text/plain": [
       "<Figure size 432x288 with 1 Axes>"
      ]
     },
     "metadata": {
      "needs_background": "light"
     },
     "output_type": "display_data"
    }
   ],
   "source": [
    "p=sns.histplot(x='fam_rel',\n",
    "             hue='fam_sup',\n",
    "             data=scores_df);\n"
   ]
  },
  {
   "cell_type": "markdown",
   "id": "15f1ead5",
   "metadata": {},
   "source": [
    "## Summary & Conclusions <a id=\"Summary&Conclusions\"></a>"
   ]
  },
  {
   "cell_type": "markdown",
   "id": "087f4e0b",
   "metadata": {},
   "source": [
    "Predicting a student’s grades requires analyzing and establishing associations between quite a lot of factors or variables. Studying these associations and predictions can help improve the education system in many ways. It is very important for teachers to be aware of what factors improve or negatively  affect the grades of students.The objective of our project is to study our dataset for factors affecting the grades of the students and try to predict their final grades.\n",
    "\n",
    "We have started this project by performing some data cleaning and preprocessing. The dataset we worked on was mostly clean and ready to work with. All we did was filter the columns which we wanted to work on and rename some of the columns that were left to something that is more readable. We also checked for any missing values and luckily there were none. We then label encoded some of the features values to make them easier for us to work with.\n",
    "\n",
    "Another important part of phase 1 of our project is data visualizations.With the help of libraries like matplotlib and seaborn we have plot some graphs to better analyze our dataset.Form our graphs we can clearly see that most of the students have missed less than 10 classes. The few students who have missed classes often have performed poorly as compared to the rest of the class. We have also observed that the parents' level of education has not affected the grades obtained by their children. Despite having a lower proportion, more number of male students have achieved good grades.\n",
    "\n",
    "We have successfully been able to process our data and remove outliers.We have also established some associations between various attributes and our target variable.However, we need more analysis to establish some causations and make some predictions.\n"
   ]
  },
  {
   "cell_type": "markdown",
   "id": "2c175f43",
   "metadata": {},
   "source": [
    "## References <a id=\"References\"></a>"
   ]
  },
  {
   "cell_type": "markdown",
   "id": "0f4b9978",
   "metadata": {},
   "source": [
    "- Kaggle.com. (n.d.). “Student Performance in Maths.” Parvinder Kaur, 15 Sept. 2022, www.kaggle.com/code/parvinderkaur21/student-performance-in-maths/data. Accessed 25 Sept. 2022.\n",
    "\n",
    "- Albon, Chris. “Using Seaborn to Visualize a Pandas Dataframe.” Chrisalbon.com, 20 Dec. 2017, chrisalbon.com/code/python/data_wrangling/pandas_with_seaborn/. Accessed 2 Oct. 2022.\n",
    "\n",
    "- datavizpyr. “How to Add Percentage Label on Bars in Barplot with Ggplot2.” Data Viz with Python and R, 31 Dec. 2021, datavizpyr.com/add-percentage-label-on-bars-in-barplot-ggplot2/. Accessed 2 Oct. 2022.\n",
    "\n",
    "- ---. “How to Annotate Barplot with Bar_label() in Matplotlib.” Data Viz with Python and R, 20 May 2021, datavizpyr.com/annotate-barplot-with-bar_label-in-matplotlib/. Accessed 2 Oct. 2022."
   ]
  }
 ],
 "metadata": {
  "kernelspec": {
   "display_name": "Python 3.9.12 ('base')",
   "language": "python",
   "name": "python3"
  },
  "language_info": {
   "codemirror_mode": {
    "name": "ipython",
    "version": 3
   },
   "file_extension": ".py",
   "mimetype": "text/x-python",
   "name": "python",
   "nbconvert_exporter": "python",
   "pygments_lexer": "ipython3",
   "version": "3.9.12"
  },
  "vscode": {
   "interpreter": {
    "hash": "768e7dea2297ac25d7d8adc85cdf874ee879b619285b107e21445e3796abc581"
   }
  }
 },
 "nbformat": 4,
 "nbformat_minor": 5
}
