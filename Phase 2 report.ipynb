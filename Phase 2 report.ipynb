{
 "cells": [
  {
   "cell_type": "markdown",
   "id": "7b3835e0",
   "metadata": {},
   "source": [
    "# Predicting Students Maths Performance"
   ]
  },
  {
   "cell_type": "markdown",
   "id": "e783bd83",
   "metadata": {},
   "source": [
    "### Phase 2: Statistical Modelling"
   ]
  },
  {
   "cell_type": "markdown",
   "id": "e8137a67",
   "metadata": {},
   "source": [
    "### Group Number: 49"
   ]
  },
  {
   "cell_type": "markdown",
   "id": "61f8cfd7",
   "metadata": {},
   "source": [
    "#### Group member names and student ID's:\n",
    "\n",
    "    Ibrahim Al-Ashhab    s3953973\n",
    "    Abhijeet Kumar       s3905291\n",
    "    Philip Goutama       s3948643\n",
    "    Rashik Raj           s3931830\n",
    "    Kawish Raj           s3931853"
   ]
  },
  {
   "cell_type": "markdown",
   "id": "43b99ddb",
   "metadata": {},
   "source": [
    "## Table Of Contents\n",
    "- [Introduction](#Introduction)\n",
    "    - [Phase 1 Summary](#Phase1Summary)\n",
    "    - [Report Overview](#ReportOverview)\n",
    "    - [Overview of Methodology](#OverviewofMethodology)\n",
    "    \n",
    "- [Statistical Modelling](#StatisticalModelling)\n",
    "    - [Full Model Overview](#FullModelOverview)\n",
    "    - [Model Fitting](#ModelFitting)\n",
    "    - [Neural Network Model Fitting & Tuning](#NNMFT)\n",
    "\n",
    "- [Critique & Limitations](#Critique&Limitations)\n",
    "    \n",
    "- [Summary & Conclusions](#Summary&Conclusions)\n",
    "    - [Project Summary](#ProjectSummary)\n",
    "    - [Summary of Findings](#SummaryofFindings)\n",
    "    - [Conclusions](#Conclusions)\n",
    "    \n",
    "- [References](#References)"
   ]
  },
  {
   "cell_type": "markdown",
   "id": "4f815f17",
   "metadata": {},
   "source": [
    "## Introduction <a id=\"Introduction\"></a>"
   ]
  },
  {
   "cell_type": "markdown",
   "id": "0be910bf",
   "metadata": {},
   "source": [
    "### Phase 1 Summary <a id=\"Phase1Summary\"></a>"
   ]
  },
  {
   "cell_type": "markdown",
   "id": "655d8ee7",
   "metadata": {},
   "source": [
    "In phase 1 of our project we performed some data cleaning and preprocessing. This was minimal though as our dataset was mostly ready to work with. We also used libraries like seaborn and matplotlib to plot graphs and extract useful information about our dataset. This helped us establish some associations between various attributes and our target variable. We concluded that we need to dig deeper and analyze our dataset more to establish some causations and make informed predictions. "
   ]
  },
  {
   "cell_type": "markdown",
   "id": "cbb2cdca",
   "metadata": {},
   "source": [
    "### Report Overview <a id=\"ReportOverview\"></a>"
   ]
  },
  {
   "cell_type": "markdown",
   "id": "14cc69d2",
   "metadata": {},
   "source": [
    "A complete and accurate overview of the contents of your Phase 2 report. Clarification: A Table of Contents is not a report overview."
   ]
  },
  {
   "cell_type": "markdown",
   "id": "8e0ac2db",
   "metadata": {},
   "source": [
    "### Overview of Methodology <a id=\"OverviewofMethodology\"></a>"
   ]
  },
  {
   "cell_type": "markdown",
   "id": "840cd819",
   "metadata": {},
   "source": [
    "A detailed, complete, and accurate overview of your statistical modelling methodology (which is multiple linear regression). More specifically, in this subsection, you will provide a summary of your \"Statistical Modelling\" section below."
   ]
  },
  {
   "cell_type": "markdown",
   "id": "ee3b59e6",
   "metadata": {},
   "source": [
    "## Statistical Modelling <a id=\"StatisticalModelling\"></a>"
   ]
  },
  {
   "cell_type": "code",
   "execution_count": 7,
   "id": "737c16e0",
   "metadata": {},
   "outputs": [],
   "source": [
    "import numpy as np\n",
    "import pandas as pd\n",
    "import matplotlib.pyplot as plt\n",
    "import seaborn as sns\n",
    "import statsmodels.api as sm\n",
    "import statsmodels.formula.api as smf\n",
    "import patsy"
   ]
  },
  {
   "cell_type": "markdown",
   "id": "1629b4b1",
   "metadata": {},
   "source": [
    "### Full Model Overview <a id=\"FullModelOverview\"></a>"
   ]
  },
  {
   "cell_type": "code",
   "execution_count": 36,
   "id": "8961270f",
   "metadata": {},
   "outputs": [],
   "source": [
    "data = pd.read_csv('Maths_scores.csv')"
   ]
  },
  {
   "cell_type": "code",
   "execution_count": 37,
   "id": "5e0b7895",
   "metadata": {},
   "outputs": [
    {
     "data": {
      "text/html": [
       "<div>\n",
       "<style scoped>\n",
       "    .dataframe tbody tr th:only-of-type {\n",
       "        vertical-align: middle;\n",
       "    }\n",
       "\n",
       "    .dataframe tbody tr th {\n",
       "        vertical-align: top;\n",
       "    }\n",
       "\n",
       "    .dataframe thead th {\n",
       "        text-align: right;\n",
       "    }\n",
       "</style>\n",
       "<table border=\"1\" class=\"dataframe\">\n",
       "  <thead>\n",
       "    <tr style=\"text-align: right;\">\n",
       "      <th></th>\n",
       "      <th>school</th>\n",
       "      <th>sex</th>\n",
       "      <th>age</th>\n",
       "      <th>study_time</th>\n",
       "      <th>medu</th>\n",
       "      <th>fedu</th>\n",
       "      <th>failures</th>\n",
       "      <th>school_sup</th>\n",
       "      <th>fam_sup</th>\n",
       "      <th>absences</th>\n",
       "      <th>fam_rel</th>\n",
       "      <th>p_status</th>\n",
       "      <th>g1</th>\n",
       "      <th>g2</th>\n",
       "      <th>g3</th>\n",
       "    </tr>\n",
       "  </thead>\n",
       "  <tbody>\n",
       "    <tr>\n",
       "      <th>0</th>\n",
       "      <td>0</td>\n",
       "      <td>0</td>\n",
       "      <td>18</td>\n",
       "      <td>2</td>\n",
       "      <td>4</td>\n",
       "      <td>4</td>\n",
       "      <td>0</td>\n",
       "      <td>1</td>\n",
       "      <td>0</td>\n",
       "      <td>6</td>\n",
       "      <td>4</td>\n",
       "      <td>0</td>\n",
       "      <td>5</td>\n",
       "      <td>6</td>\n",
       "      <td>6</td>\n",
       "    </tr>\n",
       "    <tr>\n",
       "      <th>1</th>\n",
       "      <td>0</td>\n",
       "      <td>0</td>\n",
       "      <td>17</td>\n",
       "      <td>2</td>\n",
       "      <td>1</td>\n",
       "      <td>1</td>\n",
       "      <td>0</td>\n",
       "      <td>0</td>\n",
       "      <td>1</td>\n",
       "      <td>4</td>\n",
       "      <td>5</td>\n",
       "      <td>1</td>\n",
       "      <td>5</td>\n",
       "      <td>5</td>\n",
       "      <td>6</td>\n",
       "    </tr>\n",
       "    <tr>\n",
       "      <th>2</th>\n",
       "      <td>0</td>\n",
       "      <td>0</td>\n",
       "      <td>15</td>\n",
       "      <td>2</td>\n",
       "      <td>1</td>\n",
       "      <td>1</td>\n",
       "      <td>3</td>\n",
       "      <td>1</td>\n",
       "      <td>0</td>\n",
       "      <td>10</td>\n",
       "      <td>4</td>\n",
       "      <td>1</td>\n",
       "      <td>7</td>\n",
       "      <td>8</td>\n",
       "      <td>10</td>\n",
       "    </tr>\n",
       "    <tr>\n",
       "      <th>3</th>\n",
       "      <td>0</td>\n",
       "      <td>0</td>\n",
       "      <td>15</td>\n",
       "      <td>3</td>\n",
       "      <td>4</td>\n",
       "      <td>2</td>\n",
       "      <td>0</td>\n",
       "      <td>0</td>\n",
       "      <td>1</td>\n",
       "      <td>2</td>\n",
       "      <td>3</td>\n",
       "      <td>1</td>\n",
       "      <td>15</td>\n",
       "      <td>14</td>\n",
       "      <td>15</td>\n",
       "    </tr>\n",
       "    <tr>\n",
       "      <th>4</th>\n",
       "      <td>0</td>\n",
       "      <td>0</td>\n",
       "      <td>16</td>\n",
       "      <td>2</td>\n",
       "      <td>3</td>\n",
       "      <td>3</td>\n",
       "      <td>0</td>\n",
       "      <td>0</td>\n",
       "      <td>1</td>\n",
       "      <td>4</td>\n",
       "      <td>4</td>\n",
       "      <td>1</td>\n",
       "      <td>6</td>\n",
       "      <td>10</td>\n",
       "      <td>10</td>\n",
       "    </tr>\n",
       "  </tbody>\n",
       "</table>\n",
       "</div>"
      ],
      "text/plain": [
       "   school  sex  age  study_time  medu  fedu  failures  school_sup  fam_sup  \\\n",
       "0       0    0   18           2     4     4         0           1        0   \n",
       "1       0    0   17           2     1     1         0           0        1   \n",
       "2       0    0   15           2     1     1         3           1        0   \n",
       "3       0    0   15           3     4     2         0           0        1   \n",
       "4       0    0   16           2     3     3         0           0        1   \n",
       "\n",
       "   absences  fam_rel  p_status  g1  g2  g3  \n",
       "0         6        4         0   5   6   6  \n",
       "1         4        5         1   5   5   6  \n",
       "2        10        4         1   7   8  10  \n",
       "3         2        3         1  15  14  15  \n",
       "4         4        4         1   6  10  10  "
      ]
     },
     "execution_count": 37,
     "metadata": {},
     "output_type": "execute_result"
    }
   ],
   "source": [
    "data.head()"
   ]
  },
  {
   "cell_type": "code",
   "execution_count": 38,
   "id": "813663f7",
   "metadata": {},
   "outputs": [
    {
     "name": "stdout",
     "output_type": "stream",
     "text": [
      "formula:  g3 ~ school + sex + age + study_time + medu + fedu + failures + school_sup + fam_sup + absences + fam_rel + p_status + g1 + g2\n"
     ]
    }
   ],
   "source": [
    "formula = 'g3 ~ ' + ' + '.join(data.drop(columns='g3').columns)\n",
    "print('formula: ', formula)"
   ]
  },
  {
   "cell_type": "code",
   "execution_count": 39,
   "id": "15c6e318",
   "metadata": {},
   "outputs": [
    {
     "name": "stdout",
     "output_type": "stream",
     "text": [
      "                            OLS Regression Results                            \n",
      "==============================================================================\n",
      "Dep. Variable:                     g3   R-squared:                       0.838\n",
      "Model:                            OLS   Adj. R-squared:                  0.832\n",
      "Method:                 Least Squares   F-statistic:                     140.7\n",
      "Date:                Sun, 23 Oct 2022   Prob (F-statistic):          1.21e-140\n",
      "Time:                        15:36:00   Log-Likelihood:                -801.38\n",
      "No. Observations:                 395   AIC:                             1633.\n",
      "Df Residuals:                     380   BIC:                             1692.\n",
      "Df Model:                          14                                         \n",
      "Covariance Type:            nonrobust                                         \n",
      "==============================================================================\n",
      "                 coef    std err          t      P>|t|      [0.025      0.975]\n",
      "------------------------------------------------------------------------------\n",
      "Intercept      0.1891      1.613      0.117      0.907      -2.983       3.361\n",
      "school         0.5144      0.329      1.564      0.119      -0.132       1.161\n",
      "sex            0.1762      0.207      0.853      0.394      -0.230       0.582\n",
      "age           -0.1935      0.089     -2.172      0.030      -0.369      -0.018\n",
      "study_time    -0.1696      0.125     -1.361      0.174      -0.415       0.075\n",
      "medu           0.0891      0.115      0.772      0.441      -0.138       0.316\n",
      "fedu          -0.1661      0.115     -1.451      0.148      -0.391       0.059\n",
      "failures      -0.2115      0.145     -1.460      0.145      -0.496       0.073\n",
      "school_sup     0.4156      0.306      1.357      0.176      -0.187       1.018\n",
      "fam_sup        0.2114      0.207      1.022      0.308      -0.195       0.618\n",
      "absences       0.0436      0.013      3.484      0.001       0.019       0.068\n",
      "fam_rel        0.3594      0.107      3.362      0.001       0.149       0.570\n",
      "p_status      -0.2187      0.316     -0.692      0.489      -0.840       0.403\n",
      "g1             0.1809      0.057      3.163      0.002       0.068       0.293\n",
      "g2             0.9591      0.049     19.398      0.000       0.862       1.056\n",
      "==============================================================================\n",
      "Omnibus:                      203.147   Durbin-Watson:                   1.906\n",
      "Prob(Omnibus):                  0.000   Jarque-Bera (JB):             1079.240\n",
      "Skew:                          -2.227   Prob(JB):                    4.43e-235\n",
      "Kurtosis:                       9.763   Cond. No.                         419.\n",
      "==============================================================================\n",
      "\n",
      "Notes:\n",
      "[1] Standard Errors assume that the covariance matrix of the errors is correctly specified.\n"
     ]
    }
   ],
   "source": [
    "model_full = sm.formula.ols(formula=formula, data=data)\n",
    "model_full_fitted = model_full.fit()\n",
    "\n",
    "print(model_full_fitted.summary())"
   ]
  },
  {
   "cell_type": "code",
   "execution_count": null,
   "id": "4b466d52",
   "metadata": {},
   "outputs": [],
   "source": []
  },
  {
   "cell_type": "markdown",
   "id": "a5aa1257",
   "metadata": {},
   "source": [
    "### Model Fitting <a id=\"ModelFitting\"></a>"
   ]
  },
  {
   "cell_type": "markdown",
   "id": "eac1a593",
   "metadata": {},
   "source": [
    "### Neural Network Model Fitting & Tuning <a id=\"NNMFT\"></a>"
   ]
  },
  {
   "cell_type": "markdown",
   "id": "1063c08f",
   "metadata": {},
   "source": [
    "## Critique & Limitations <a id=\"Critique&Limitations\"></a>"
   ]
  },
  {
   "cell_type": "markdown",
   "id": "87ee9bac",
   "metadata": {},
   "source": [
    "## Summary & Conclusions <a id=\"Summary&Conclusions\"></a>"
   ]
  },
  {
   "cell_type": "markdown",
   "id": "5349a786",
   "metadata": {},
   "source": [
    "### Project Summary <a id=\"ProjectSummary\"></a>"
   ]
  },
  {
   "cell_type": "markdown",
   "id": "470b97d4",
   "metadata": {},
   "source": [
    "### Summary of Findings <a id=\"SummaryofFindings\"></a>"
   ]
  },
  {
   "cell_type": "markdown",
   "id": "261a38fc",
   "metadata": {},
   "source": [
    "### Conclusions <a id=\"Conclusions\"></a>"
   ]
  },
  {
   "cell_type": "markdown",
   "id": "1880995c",
   "metadata": {},
   "source": [
    "## References <a id=\"References\"></a>"
   ]
  }
 ],
 "metadata": {
  "kernelspec": {
   "display_name": "env",
   "language": "python",
   "name": "python3"
  },
  "language_info": {
   "codemirror_mode": {
    "name": "ipython",
    "version": 3
   },
   "file_extension": ".py",
   "mimetype": "text/x-python",
   "name": "python",
   "nbconvert_exporter": "python",
   "pygments_lexer": "ipython3",
   "version": "3.9.2"
  },
  "vscode": {
   "interpreter": {
    "hash": "1b62a783a2f5d5afb180498966423be0c6169397e624b60fa5b9760bfdf19b55"
   }
  }
 },
 "nbformat": 4,
 "nbformat_minor": 5
}
