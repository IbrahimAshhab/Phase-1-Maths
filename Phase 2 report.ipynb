{
 "cells": [
  {
   "cell_type": "markdown",
   "id": "7b3835e0",
   "metadata": {},
   "source": [
    "# Predicting Students Maths Performance"
   ]
  },
  {
   "cell_type": "markdown",
   "id": "e783bd83",
   "metadata": {},
   "source": [
    "### Phase 2: Statistical Modelling"
   ]
  },
  {
   "cell_type": "markdown",
   "id": "e8137a67",
   "metadata": {},
   "source": [
    "### Group Number: 49"
   ]
  },
  {
   "cell_type": "markdown",
   "id": "61f8cfd7",
   "metadata": {},
   "source": [
    "#### Group member names and student ID's:\n",
    "\n",
    "    Ibrahim Al-Ashhab    s3953973\n",
    "    Abhijeet Kumar       s3905291\n",
    "    Philip Goutama       s3948643\n",
    "    Rashik Raj           s3931830\n",
    "    Kawish Raj           s3931853"
   ]
  },
  {
   "cell_type": "markdown",
   "id": "43b99ddb",
   "metadata": {},
   "source": [
    "## Table Of Contents\n",
    "- [Introduction](#Introduction)\n",
    "    - [Phase 1 Summary](#Phase1Summary)\n",
    "    - [Report Overview](#ReportOverview)\n",
    "    - [Overview of Methodology](#OverviewofMethodology)\n",
    "    \n",
    "- [Statistical Modelling](#StatisticalModelling)\n",
    "    - [Full Model Overview](#FullModelOverview)\n",
    "    - [Model Fitting](#ModelFitting)\n",
    "    - [Neural Network Model Fitting & Tuning](#NNMFT)\n",
    "\n",
    "- [Critique & Limitations](#Critique&Limitations)\n",
    "    \n",
    "- [Summary & Conclusions](#Summary&Conclusions)\n",
    "    - [Project Summary](#ProjectSummary)\n",
    "    - [Summary of Findings](#SummaryofFindings)\n",
    "    - [Conclusions](#Conclusions)\n",
    "    \n",
    "- [References](#References)"
   ]
  },
  {
   "cell_type": "markdown",
   "id": "4f815f17",
   "metadata": {},
   "source": [
    "## Introduction <a id=\"Introduction\"></a>"
   ]
  },
  {
   "cell_type": "markdown",
   "id": "0be910bf",
   "metadata": {},
   "source": [
    "### Phase 1 Summary <a id=\"Phase1Summary\"></a>"
   ]
  },
  {
   "cell_type": "markdown",
   "id": "655d8ee7",
   "metadata": {},
   "source": [
    "In phase 1 of our project we performed some data cleaning and preprocessing. This was minimal though as our dataset was mostly ready to work with. We also used libraries like seaborn and matplotlib to plot graphs and extract useful information about our dataset. This helped us establish some associations between various attributes and our target variable. We concluded that we need to dig deeper and analyze our dataset more to establish some causations and make informed predictions. "
   ]
  },
  {
   "cell_type": "markdown",
   "id": "cbb2cdca",
   "metadata": {},
   "source": [
    "### Report Overview <a id=\"ReportOverview\"></a>"
   ]
  },
  {
   "cell_type": "markdown",
   "id": "14cc69d2",
   "metadata": {},
   "source": [
    "A complete and accurate overview of the contents of your Phase 2 report. Clarification: A Table of Contents is not a report overview."
   ]
  },
  {
   "cell_type": "markdown",
   "id": "8e0ac2db",
   "metadata": {},
   "source": [
    "### Overview of Methodology <a id=\"OverviewofMethodology\"></a>"
   ]
  },
  {
   "cell_type": "markdown",
   "id": "840cd819",
   "metadata": {},
   "source": [
    "A detailed, complete, and accurate overview of your statistical modelling methodology (which is multiple linear regression). More specifically, in this subsection, you will provide a summary of your \"Statistical Modelling\" section below."
   ]
  },
  {
   "cell_type": "markdown",
   "id": "ee3b59e6",
   "metadata": {},
   "source": [
    "## Statistical Modelling <a id=\"StatisticalModelling\"></a>"
   ]
  },
  {
   "cell_type": "code",
   "execution_count": 7,
   "id": "737c16e0",
   "metadata": {},
   "outputs": [],
   "source": [
    "import numpy as np\n",
    "import pandas as pd\n",
    "import matplotlib.pyplot as plt\n",
    "import seaborn as sns\n",
    "import statsmodels.api as sm\n",
    "import statsmodels.formula.api as smf\n",
    "import patsy"
   ]
  },
  {
   "cell_type": "markdown",
   "id": "1629b4b1",
   "metadata": {},
   "source": [
    "### Full Model Overview <a id=\"FullModelOverview\"></a>"
   ]
  },
  {
   "cell_type": "code",
   "execution_count": 151,
   "id": "8961270f",
   "metadata": {},
   "outputs": [],
   "source": [
    "data = pd.read_csv('Maths_scores.csv')"
   ]
  },
  {
   "cell_type": "code",
   "execution_count": 152,
   "id": "5e0b7895",
   "metadata": {},
   "outputs": [
    {
     "data": {
      "text/html": [
       "<div>\n",
       "<style scoped>\n",
       "    .dataframe tbody tr th:only-of-type {\n",
       "        vertical-align: middle;\n",
       "    }\n",
       "\n",
       "    .dataframe tbody tr th {\n",
       "        vertical-align: top;\n",
       "    }\n",
       "\n",
       "    .dataframe thead th {\n",
       "        text-align: right;\n",
       "    }\n",
       "</style>\n",
       "<table border=\"1\" class=\"dataframe\">\n",
       "  <thead>\n",
       "    <tr style=\"text-align: right;\">\n",
       "      <th></th>\n",
       "      <th>school</th>\n",
       "      <th>sex</th>\n",
       "      <th>age</th>\n",
       "      <th>study_time</th>\n",
       "      <th>medu</th>\n",
       "      <th>fedu</th>\n",
       "      <th>failures</th>\n",
       "      <th>school_sup</th>\n",
       "      <th>fam_sup</th>\n",
       "      <th>absences</th>\n",
       "      <th>fam_rel</th>\n",
       "      <th>p_status</th>\n",
       "      <th>g1</th>\n",
       "      <th>g2</th>\n",
       "      <th>g3</th>\n",
       "    </tr>\n",
       "  </thead>\n",
       "  <tbody>\n",
       "    <tr>\n",
       "      <th>0</th>\n",
       "      <td>0</td>\n",
       "      <td>0</td>\n",
       "      <td>18</td>\n",
       "      <td>2</td>\n",
       "      <td>4</td>\n",
       "      <td>4</td>\n",
       "      <td>0</td>\n",
       "      <td>1</td>\n",
       "      <td>0</td>\n",
       "      <td>6</td>\n",
       "      <td>4</td>\n",
       "      <td>0</td>\n",
       "      <td>5</td>\n",
       "      <td>6</td>\n",
       "      <td>6</td>\n",
       "    </tr>\n",
       "    <tr>\n",
       "      <th>1</th>\n",
       "      <td>0</td>\n",
       "      <td>0</td>\n",
       "      <td>17</td>\n",
       "      <td>2</td>\n",
       "      <td>1</td>\n",
       "      <td>1</td>\n",
       "      <td>0</td>\n",
       "      <td>0</td>\n",
       "      <td>1</td>\n",
       "      <td>4</td>\n",
       "      <td>5</td>\n",
       "      <td>1</td>\n",
       "      <td>5</td>\n",
       "      <td>5</td>\n",
       "      <td>6</td>\n",
       "    </tr>\n",
       "    <tr>\n",
       "      <th>2</th>\n",
       "      <td>0</td>\n",
       "      <td>0</td>\n",
       "      <td>15</td>\n",
       "      <td>2</td>\n",
       "      <td>1</td>\n",
       "      <td>1</td>\n",
       "      <td>3</td>\n",
       "      <td>1</td>\n",
       "      <td>0</td>\n",
       "      <td>10</td>\n",
       "      <td>4</td>\n",
       "      <td>1</td>\n",
       "      <td>7</td>\n",
       "      <td>8</td>\n",
       "      <td>10</td>\n",
       "    </tr>\n",
       "    <tr>\n",
       "      <th>3</th>\n",
       "      <td>0</td>\n",
       "      <td>0</td>\n",
       "      <td>15</td>\n",
       "      <td>3</td>\n",
       "      <td>4</td>\n",
       "      <td>2</td>\n",
       "      <td>0</td>\n",
       "      <td>0</td>\n",
       "      <td>1</td>\n",
       "      <td>2</td>\n",
       "      <td>3</td>\n",
       "      <td>1</td>\n",
       "      <td>15</td>\n",
       "      <td>14</td>\n",
       "      <td>15</td>\n",
       "    </tr>\n",
       "    <tr>\n",
       "      <th>4</th>\n",
       "      <td>0</td>\n",
       "      <td>0</td>\n",
       "      <td>16</td>\n",
       "      <td>2</td>\n",
       "      <td>3</td>\n",
       "      <td>3</td>\n",
       "      <td>0</td>\n",
       "      <td>0</td>\n",
       "      <td>1</td>\n",
       "      <td>4</td>\n",
       "      <td>4</td>\n",
       "      <td>1</td>\n",
       "      <td>6</td>\n",
       "      <td>10</td>\n",
       "      <td>10</td>\n",
       "    </tr>\n",
       "  </tbody>\n",
       "</table>\n",
       "</div>"
      ],
      "text/plain": [
       "   school  sex  age  study_time  medu  fedu  failures  school_sup  fam_sup  \\\n",
       "0       0    0   18           2     4     4         0           1        0   \n",
       "1       0    0   17           2     1     1         0           0        1   \n",
       "2       0    0   15           2     1     1         3           1        0   \n",
       "3       0    0   15           3     4     2         0           0        1   \n",
       "4       0    0   16           2     3     3         0           0        1   \n",
       "\n",
       "   absences  fam_rel  p_status  g1  g2  g3  \n",
       "0         6        4         0   5   6   6  \n",
       "1         4        5         1   5   5   6  \n",
       "2        10        4         1   7   8  10  \n",
       "3         2        3         1  15  14  15  \n",
       "4         4        4         1   6  10  10  "
      ]
     },
     "execution_count": 152,
     "metadata": {},
     "output_type": "execute_result"
    }
   ],
   "source": [
    "data.head()"
   ]
  },
  {
   "cell_type": "code",
   "execution_count": 164,
   "id": "813663f7",
   "metadata": {},
   "outputs": [
    {
     "name": "stdout",
     "output_type": "stream",
     "text": [
      "formula:  g3 ~ school + sex + age + study_time + medu + fedu + failures + school_sup + fam_sup + absences + fam_rel + p_status + g1 + g2\n"
     ]
    }
   ],
   "source": [
    "formula = 'g3 ~ ' + ' + '.join(data.drop(columns='g3').columns)\n",
    "print('formula: ', formula)"
   ]
  },
  {
   "cell_type": "code",
   "execution_count": 165,
   "id": "15c6e318",
   "metadata": {},
   "outputs": [
    {
     "name": "stdout",
     "output_type": "stream",
     "text": [
      "                            OLS Regression Results                            \n",
      "==============================================================================\n",
      "Dep. Variable:                     g3   R-squared:                       0.838\n",
      "Model:                            OLS   Adj. R-squared:                  0.832\n",
      "Method:                 Least Squares   F-statistic:                     140.7\n",
      "Date:                Sun, 23 Oct 2022   Prob (F-statistic):          1.21e-140\n",
      "Time:                        17:24:31   Log-Likelihood:                -801.38\n",
      "No. Observations:                 395   AIC:                             1633.\n",
      "Df Residuals:                     380   BIC:                             1692.\n",
      "Df Model:                          14                                         \n",
      "Covariance Type:            nonrobust                                         \n",
      "==============================================================================\n",
      "                 coef    std err          t      P>|t|      [0.025      0.975]\n",
      "------------------------------------------------------------------------------\n",
      "Intercept      0.1891      1.613      0.117      0.907      -2.983       3.361\n",
      "school         0.5144      0.329      1.564      0.119      -0.132       1.161\n",
      "sex            0.1762      0.207      0.853      0.394      -0.230       0.582\n",
      "age           -0.1935      0.089     -2.172      0.030      -0.369      -0.018\n",
      "study_time    -0.1696      0.125     -1.361      0.174      -0.415       0.075\n",
      "medu           0.0891      0.115      0.772      0.441      -0.138       0.316\n",
      "fedu          -0.1661      0.115     -1.451      0.148      -0.391       0.059\n",
      "failures      -0.2115      0.145     -1.460      0.145      -0.496       0.073\n",
      "school_sup     0.4156      0.306      1.357      0.176      -0.187       1.018\n",
      "fam_sup        0.2114      0.207      1.022      0.308      -0.195       0.618\n",
      "absences       0.0436      0.013      3.484      0.001       0.019       0.068\n",
      "fam_rel        0.3594      0.107      3.362      0.001       0.149       0.570\n",
      "p_status      -0.2187      0.316     -0.692      0.489      -0.840       0.403\n",
      "g1             0.1809      0.057      3.163      0.002       0.068       0.293\n",
      "g2             0.9591      0.049     19.398      0.000       0.862       1.056\n",
      "==============================================================================\n",
      "Omnibus:                      203.147   Durbin-Watson:                   1.906\n",
      "Prob(Omnibus):                  0.000   Jarque-Bera (JB):             1079.240\n",
      "Skew:                          -2.227   Prob(JB):                    4.43e-235\n",
      "Kurtosis:                       9.763   Cond. No.                         419.\n",
      "==============================================================================\n",
      "\n",
      "Notes:\n",
      "[1] Standard Errors assume that the covariance matrix of the errors is correctly specified.\n",
      "Regression number of terms: 15\n",
      "Regression F-distribution p-value: 0.0000\n",
      "Regression R-squared: 0.8383\n",
      "Regression Adjusted R-squared: 0.8323\n"
     ]
    }
   ],
   "source": [
    "model_full = sm.formula.ols(formula=formula, data=data)\n",
    "model_full_fitted = model_full.fit()\n",
    "\n",
    "print(model_full_fitted.summary())\n",
    "print(f\"Regression number of terms: {len(model_full_fitted.model.exog_names)}\")\n",
    "print(f\"Regression F-distribution p-value: {model_full_fitted.f_pvalue:.4f}\")\n",
    "print(f\"Regression R-squared: {model_full_fitted.rsquared:.4f}\")\n",
    "print(f\"Regression Adjusted R-squared: {model_full_fitted.rsquared_adj:.4f}\")"
   ]
  },
  {
   "cell_type": "code",
   "execution_count": null,
   "id": "e77ae42d",
   "metadata": {},
   "outputs": [],
   "source": []
  },
  {
   "cell_type": "code",
   "execution_count": 166,
   "id": "4b466d52",
   "metadata": {},
   "outputs": [
    {
     "data": {
      "text/html": [
       "<div>\n",
       "<style scoped>\n",
       "    .dataframe tbody tr th:only-of-type {\n",
       "        vertical-align: middle;\n",
       "    }\n",
       "\n",
       "    .dataframe tbody tr th {\n",
       "        vertical-align: top;\n",
       "    }\n",
       "\n",
       "    .dataframe thead th {\n",
       "        text-align: right;\n",
       "    }\n",
       "</style>\n",
       "<table border=\"1\" class=\"dataframe\">\n",
       "  <thead>\n",
       "    <tr style=\"text-align: right;\">\n",
       "      <th></th>\n",
       "      <th>actual</th>\n",
       "      <th>predicted</th>\n",
       "      <th>residual</th>\n",
       "    </tr>\n",
       "  </thead>\n",
       "  <tbody>\n",
       "    <tr>\n",
       "      <th>0</th>\n",
       "      <td>6</td>\n",
       "      <td>4.833148</td>\n",
       "      <td>1.166852</td>\n",
       "    </tr>\n",
       "    <tr>\n",
       "      <th>1</th>\n",
       "      <td>6</td>\n",
       "      <td>4.147911</td>\n",
       "      <td>1.852089</td>\n",
       "    </tr>\n",
       "    <tr>\n",
       "      <th>2</th>\n",
       "      <td>10</td>\n",
       "      <td>7.246146</td>\n",
       "      <td>2.753854</td>\n",
       "    </tr>\n",
       "    <tr>\n",
       "      <th>3</th>\n",
       "      <td>15</td>\n",
       "      <td>14.101210</td>\n",
       "      <td>0.898790</td>\n",
       "    </tr>\n",
       "    <tr>\n",
       "      <th>4</th>\n",
       "      <td>10</td>\n",
       "      <td>8.804197</td>\n",
       "      <td>1.195803</td>\n",
       "    </tr>\n",
       "    <tr>\n",
       "      <th>5</th>\n",
       "      <td>15</td>\n",
       "      <td>16.114520</td>\n",
       "      <td>-1.114520</td>\n",
       "    </tr>\n",
       "    <tr>\n",
       "      <th>6</th>\n",
       "      <td>11</td>\n",
       "      <td>11.675173</td>\n",
       "      <td>-0.675173</td>\n",
       "    </tr>\n",
       "    <tr>\n",
       "      <th>7</th>\n",
       "      <td>6</td>\n",
       "      <td>4.459877</td>\n",
       "      <td>1.540123</td>\n",
       "    </tr>\n",
       "    <tr>\n",
       "      <th>8</th>\n",
       "      <td>19</td>\n",
       "      <td>18.866054</td>\n",
       "      <td>0.133946</td>\n",
       "    </tr>\n",
       "    <tr>\n",
       "      <th>9</th>\n",
       "      <td>15</td>\n",
       "      <td>15.435392</td>\n",
       "      <td>-0.435392</td>\n",
       "    </tr>\n",
       "  </tbody>\n",
       "</table>\n",
       "</div>"
      ],
      "text/plain": [
       "   actual  predicted  residual\n",
       "0       6   4.833148  1.166852\n",
       "1       6   4.147911  1.852089\n",
       "2      10   7.246146  2.753854\n",
       "3      15  14.101210  0.898790\n",
       "4      10   8.804197  1.195803\n",
       "5      15  16.114520 -1.114520\n",
       "6      11  11.675173 -0.675173\n",
       "7       6   4.459877  1.540123\n",
       "8      19  18.866054  0.133946\n",
       "9      15  15.435392 -0.435392"
      ]
     },
     "execution_count": 166,
     "metadata": {},
     "output_type": "execute_result"
    }
   ],
   "source": [
    "residuals_full = pd.DataFrame({'actual': data['g3'], \n",
    "                               'predicted': model_full_fitted.fittedvalues, \n",
    "                               'residual': model_full_fitted.resid})\n",
    "residuals_full.head(10)\n"
   ]
  },
  {
   "cell_type": "code",
   "execution_count": 167,
   "id": "37ddcf96",
   "metadata": {},
   "outputs": [
    {
     "data": {
      "image/png": "[encoded data removed]",
      "text/plain": [
       "<Figure size 432x288 with 1 Axes>"
      ]
     },
     "metadata": {
      "needs_background": "light"
     },
     "output_type": "display_data"
    }
   ],
   "source": [
    "def plot_line(axis, slope, intercept, **kargs):\n",
    "    xmin, xmax = axis.get_xlim()\n",
    "    plt.plot([xmin, xmax], [xmin*slope+intercept, xmax*slope+intercept], **kargs)\n",
    "\n",
    "# Creating scatter plot\n",
    "plt.scatter(residuals_full['actual'], residuals_full['predicted'], alpha=0.3);\n",
    "plot_line(axis=plt.gca(), slope=1, intercept=0, c=\"red\");\n",
    "plt.xlabel('Actual G3 Marks');\n",
    "plt.ylabel('Predicted G3 Marks');\n",
    "plt.title('Scatter plot of actual vs. predicted G3 score for the Full Model', fontsize=15);\n",
    "plt.show();"
   ]
  },
  {
   "cell_type": "markdown",
   "id": "a5aa1257",
   "metadata": {},
   "source": [
    "### Model Fitting <a id=\"ModelFitting\"></a>"
   ]
  },
  {
   "cell_type": "markdown",
   "id": "eac1a593",
   "metadata": {},
   "source": [
    "### Neural Network Model Fitting & Tuning <a id=\"NNMFT\"></a>"
   ]
  },
  {
   "cell_type": "code",
   "execution_count": 168,
   "id": "440585ab",
   "metadata": {},
   "outputs": [
    {
     "data": {
      "image/png": "[encoded data removed]",
      "text/plain": [
       "<Figure size 432x288 with 1 Axes>"
      ]
     },
     "metadata": {
      "needs_background": "light"
     },
     "output_type": "display_data"
    }
   ],
   "source": [
    "plt.scatter(residuals_full['predicted'], residuals_full['residual'], alpha=0.3);\n",
    "plt.xlabel('Predicted G3 score');\n",
    "plt.ylabel('Residuals')\n",
    "plt.title('Scatterplot of residuals vs. predicted G3 score for Full Model', fontsize=15)\n",
    "plt.show();"
   ]
  },
  {
   "cell_type": "code",
   "execution_count": 169,
   "id": "ca0c7ea0",
   "metadata": {},
   "outputs": [
    {
     "data": {
      "image/png": "[encoded data removed]",
      "text/plain": [
       "<Figure size 432x288 with 1 Axes>"
      ]
     },
     "metadata": {
      "needs_background": "light"
     },
     "output_type": "display_data"
    }
   ],
   "source": [
    "plt.scatter(residuals_full['actual'], residuals_full['residual'], alpha=0.3);\n",
    "plt.xlabel('Actual G3 score');\n",
    "plt.ylabel('Residuals')\n",
    "plt.title('Scatterplot of residuals vs. actual G3 score for Full Model', fontsize=15)\n",
    "plt.show();"
   ]
  },
  {
   "cell_type": "markdown",
   "id": "b8e937e6",
   "metadata": {},
   "source": [
    "model overestimates students with 0 marks and underestimates students with marks in range 5-15"
   ]
  },
  {
   "cell_type": "code",
   "execution_count": 170,
   "id": "d2345858",
   "metadata": {},
   "outputs": [
    {
     "data": {
      "image/png": "[encoded data removed]",
      "text/plain": [
       "<Figure size 432x288 with 1 Axes>"
      ]
     },
     "metadata": {
      "needs_background": "light"
     },
     "output_type": "display_data"
    }
   ],
   "source": [
    "plt.hist(residuals_full['actual'], label='actual', bins=20, alpha=0.7);\n",
    "plt.hist(residuals_full['predicted'], label='predicted', bins=20, alpha=0.7);\n",
    "plt.xlabel('G3 score');\n",
    "plt.ylabel('Frequency');\n",
    "plt.title('Histograms of actual G3 score vs. predicted G3 score for Full Model', fontsize=15);\n",
    "plt.legend()\n",
    "plt.show();"
   ]
  },
  {
   "cell_type": "code",
   "execution_count": 171,
   "id": "e6f178b7",
   "metadata": {},
   "outputs": [
    {
     "data": {
      "image/png": "[encoded data removed]",
      "text/plain": [
       "<Figure size 432x288 with 1 Axes>"
      ]
     },
     "metadata": {
      "needs_background": "light"
     },
     "output_type": "display_data"
    }
   ],
   "source": [
    "plt.hist(residuals_full['residual'], bins = 20);\n",
    "plt.xlabel('Residual');\n",
    "plt.ylabel('Frequency');\n",
    "plt.title('Histogram of residuals for Full Model', fontsize=15);\n",
    "plt.show();"
   ]
  },
  {
   "cell_type": "markdown",
   "id": "f42eb3a9",
   "metadata": {},
   "source": [
    "### Backwards Feature Selection<a href=\"#Backwards-Feature-Selection\" class=\"anchor-link\"></a>\n",
    "\n",
    "We now perform backwards feature selection using p-values. It appears\n",
    "`Statsmodels` does not have any canned code for automatic feature\n",
    "selection, so we wrote one ourselves."
   ]
  },
  {
   "cell_type": "code",
   "execution_count": 172,
   "id": "5adf2617",
   "metadata": {},
   "outputs": [
    {
     "name": "stdout",
     "output_type": "stream",
     "text": [
      "\n",
      "Performing backwards feature selection using p-values:\n",
      "\n",
      "Removing term \"p_status\" with p-value 0.4892\n",
      "\n",
      "Removing term \"sex\" with p-value 0.4082\n",
      "\n",
      "Removing term \"fam_sup\" with p-value 0.369\n",
      "\n",
      "Removing term \"medu\" with p-value 0.3224\n",
      "\n",
      "Removing term \"fedu\" with p-value 0.3331\n",
      "\n",
      "Removing term \"school_sup\" with p-value 0.2314\n",
      "\tPrevious adj_square 0.8328 > current adj_square 0.8326\n",
      "\tAdding term \"school_sup\" with p-value 0.2314\n",
      "\n",
      "Removing term \"failures\" with p-value 0.1949\n",
      "\tPrevious adj_square 0.8326 > current adj_square 0.8325\n",
      "\tAdding term \"failures\" with p-value 0.1949\n",
      "\n",
      "Removing term \"study_time\" with p-value 0.1928\n",
      "\tPrevious adj_square 0.8325 > current adj_square 0.8323\n",
      "\tAdding term \"study_time\" with p-value 0.1928\n",
      "\n",
      "Removing term \"school\" with p-value 0.1181\n",
      "\n",
      "Removing term \"age\" with p-value 0.06321\n",
      "\tPrevious adj_square 0.8324 > current adj_square 0.8313\n",
      "\tAdding term \"age\" with p-value 0.06321\n",
      "\n",
      "***\n",
      "                            OLS Regression Results                            \n",
      "==============================================================================\n",
      "Dep. Variable:                     g3   R-squared:                       0.836\n",
      "Model:                            OLS   Adj. R-squared:                  0.832\n",
      "Method:                 Least Squares   F-statistic:                     245.6\n",
      "Date:                Sun, 23 Oct 2022   Prob (F-statistic):          2.75e-146\n",
      "Time:                        17:24:34   Log-Likelihood:                -804.39\n",
      "No. Observations:                 395   AIC:                             1627.\n",
      "Df Residuals:                     386   BIC:                             1663.\n",
      "Df Model:                           8                                         \n",
      "Covariance Type:            nonrobust                                         \n",
      "==============================================================================\n",
      "                 coef    std err          t      P>|t|      [0.025      0.975]\n",
      "------------------------------------------------------------------------------\n",
      "Intercept     -0.4823      1.451     -0.332      0.740      -3.335       2.371\n",
      "absences       0.0418      0.012      3.463      0.001       0.018       0.066\n",
      "fam_rel        0.3511      0.106      3.307      0.001       0.142       0.560\n",
      "g1             0.1681      0.057      2.971      0.003       0.057       0.279\n",
      "g2             0.9684      0.049     19.710      0.000       0.872       1.065\n",
      "school_sup     0.3485      0.302      1.153      0.249      -0.246       0.943\n",
      "failures      -0.1944      0.142     -1.372      0.171      -0.473       0.084\n",
      "study_time    -0.1886      0.116     -1.630      0.104      -0.416       0.039\n",
      "age           -0.1516      0.081     -1.863      0.063      -0.312       0.008\n",
      "==============================================================================\n",
      "Omnibus:                      210.672   Durbin-Watson:                   1.880\n",
      "Prob(Omnibus):                  0.000   Jarque-Bera (JB):             1191.311\n",
      "Skew:                          -2.301   Prob(JB):                    2.04e-259\n",
      "Kurtosis:                      10.156   Cond. No.                         372.\n",
      "==============================================================================\n",
      "\n",
      "Notes:\n",
      "[1] Standard Errors assume that the covariance matrix of the errors is correctly specified.\n",
      "***\n",
      "Terms removed: ['p_status', 'sex', 'fam_sup', 'medu', 'fedu', 'school']\n",
      "Regression number of terms: 9\n",
      "Regression F-distribution p-value: 0.0000\n",
      "Regression R-squared: 0.8358\n",
      "Regression Adjusted R-squared: 0.8324\n"
     ]
    }
   ],
   "source": [
    "## create the patsy model description from formula\n",
    "patsy_description = patsy.ModelDesc.from_formula(formula)\n",
    "\n",
    "# initialize feature-selected fit to full model\n",
    "linreg_fit = model_full_fitted\n",
    "\n",
    "# do backwards elimination using p-values\n",
    "p_val_cutoff = 0.05\n",
    "\n",
    "## WARNING 1: The code below assumes that the Intercept term is present in the model.\n",
    "## WARNING 2: It will work only with main effects and two-way interactions, if any.\n",
    "\n",
    "print('\\nPerforming backwards feature selection using p-values:')\n",
    "\n",
    "checked_terms = []\n",
    "removed_terms = []\n",
    "\n",
    "while True:\n",
    "    prev_adj_square = linreg_fit.rsquared_adj\n",
    "    # # print(linreg_fit.summary())\n",
    "\n",
    "    pval_series = linreg_fit.pvalues.drop(labels='Intercept')\n",
    "    pval_series = pval_series.sort_values(ascending=False)\n",
    "    terms = pval_series.index\n",
    "    term = None\n",
    "    for check_term in terms:\n",
    "        if check_term not in checked_terms:\n",
    "            term = check_term\n",
    "            break\n",
    "    else:\n",
    "        break\n",
    "        \n",
    "    pval = pval_series[term]\n",
    "    if (pval < p_val_cutoff):\n",
    "        break\n",
    "    term_components = term.split(':')\n",
    "    print(f'\\nRemoving term \"{term}\" with p-value {pval:.4}')\n",
    "    if (len(term_components) == 1): ## this is a main effect term\n",
    "        patsy_description.rhs_termlist.remove(patsy.Term([patsy.EvalFactor(term_components[0])]))\n",
    "    else: ## this is an interaction term\n",
    "        patsy_description.rhs_termlist.remove(patsy.Term([patsy.EvalFactor(term_components[0]), patsy.EvalFactor(term_components[1])]))\n",
    "\n",
    "    linreg_fit = smf.ols(formula=patsy_description, data=data).fit()\n",
    "    checked_terms.append(term)\n",
    "    if prev_adj_square > linreg_fit.rsquared_adj:\n",
    "        print(f'\\tPrevious adj_square {prev_adj_square:.4} > current adj_square {linreg_fit.rsquared_adj:.4}')\n",
    "        print(f'\\tAdding term \"{term}\" with p-value {pval:.4}')\n",
    "        if (len(term_components) == 1): ## this is a main effect term\n",
    "            patsy_description.rhs_termlist.append(patsy.Term([patsy.EvalFactor(term_components[0])]))\n",
    "        else: ## this is an interaction term\n",
    "            patsy_description.rhs_termlist.append(patsy.Term([patsy.EvalFactor(term_components[0]), patsy.EvalFactor(term_components[1])]))\n",
    "    else:\n",
    "        removed_terms.append(term)\n",
    "        \n",
    "        \n",
    "\n",
    "###\n",
    "## this is the clean fit after backwards elimination\n",
    "model_reduced_fitted = smf.ols(formula = patsy_description, data = data).fit()\n",
    "###\n",
    "\n",
    "#########\n",
    "print(\"\\n***\")\n",
    "print(model_reduced_fitted.summary())\n",
    "print(\"***\")\n",
    "print(f\"Terms removed: {removed_terms}\")\n",
    "print(f\"Regression number of terms: {len(model_reduced_fitted.model.exog_names)}\")\n",
    "print(f\"Regression F-distribution p-value: {model_reduced_fitted.f_pvalue:.4f}\")\n",
    "print(f\"Regression R-squared: {model_reduced_fitted.rsquared:.4f}\")\n",
    "print(f\"Regression Adjusted R-squared: {model_reduced_fitted.rsquared_adj:.4f}\")"
   ]
  },
  {
   "cell_type": "markdown",
   "id": "98ecbb8f",
   "metadata": {},
   "source": [
    "columns removed without checking the previous adj_r_square value\n",
    "\n",
    "\n",
    "['absences', 'age', 'failures', 'fam_rel', 'g1', 'g2', 'school_sup', 'study_time']\n",
    "\n",
    "\n",
    "['absences', 'age',             'fam_rel', 'g1', 'g2'                            ]"
   ]
  },
  {
   "cell_type": "markdown",
   "id": "19101e8a",
   "metadata": {},
   "source": [
    "This model returns an Adjusted R-squared of 0.8336, meaning the reduced\n",
    "model still explains about 40% of the variance, but with 9 less\n",
    "variables. Looking at the p-values, they are all significant at the 5%\n",
    "level, as expected. From Figure 13, we still have the same issues with\n",
    "our model. That is, the model overestimates younger ages and\n",
    "underestimates older ages. We will now perform the diagnostic checks on\n",
    "this reduced model.\n",
    "\n",
    "### Reduced Model Diagnostic Checks<a href=\"#Reduced-Model-Diagnostic-Checks\" class=\"anchor-link\"></a>\n",
    "\n",
    "Let's first get a scatter plot of residuals (as a function of predicted\n",
    "age)."
   ]
  },
  {
   "cell_type": "code",
   "execution_count": 173,
   "id": "8af13159",
   "metadata": {},
   "outputs": [
    {
     "data": {
      "text/html": [
       "<div>\n",
       "<style scoped>\n",
       "    .dataframe tbody tr th:only-of-type {\n",
       "        vertical-align: middle;\n",
       "    }\n",
       "\n",
       "    .dataframe tbody tr th {\n",
       "        vertical-align: top;\n",
       "    }\n",
       "\n",
       "    .dataframe thead th {\n",
       "        text-align: right;\n",
       "    }\n",
       "</style>\n",
       "<table border=\"1\" class=\"dataframe\">\n",
       "  <thead>\n",
       "    <tr style=\"text-align: right;\">\n",
       "      <th></th>\n",
       "      <th>actual</th>\n",
       "      <th>predicted</th>\n",
       "      <th>residual</th>\n",
       "    </tr>\n",
       "  </thead>\n",
       "  <tbody>\n",
       "    <tr>\n",
       "      <th>0</th>\n",
       "      <td>6</td>\n",
       "      <td>5.066172</td>\n",
       "      <td>0.933828</td>\n",
       "    </tr>\n",
       "    <tr>\n",
       "      <th>1</th>\n",
       "      <td>6</td>\n",
       "      <td>4.168438</td>\n",
       "      <td>1.831562</td>\n",
       "    </tr>\n",
       "    <tr>\n",
       "      <th>2</th>\n",
       "      <td>10</td>\n",
       "      <td>7.378006</td>\n",
       "      <td>2.621994</td>\n",
       "    </tr>\n",
       "    <tr>\n",
       "      <th>3</th>\n",
       "      <td>15</td>\n",
       "      <td>13.893795</td>\n",
       "      <td>1.106205</td>\n",
       "    </tr>\n",
       "    <tr>\n",
       "      <th>4</th>\n",
       "      <td>10</td>\n",
       "      <td>8.978842</td>\n",
       "      <td>1.021158</td>\n",
       "    </tr>\n",
       "    <tr>\n",
       "      <th>5</th>\n",
       "      <td>15</td>\n",
       "      <td>15.935720</td>\n",
       "      <td>-0.935720</td>\n",
       "    </tr>\n",
       "    <tr>\n",
       "      <th>6</th>\n",
       "      <td>11</td>\n",
       "      <td>11.757193</td>\n",
       "      <td>-0.757193</td>\n",
       "    </tr>\n",
       "    <tr>\n",
       "      <th>7</th>\n",
       "      <td>6</td>\n",
       "      <td>4.417558</td>\n",
       "      <td>1.582442</td>\n",
       "    </tr>\n",
       "    <tr>\n",
       "      <th>8</th>\n",
       "      <td>19</td>\n",
       "      <td>18.391486</td>\n",
       "      <td>0.608514</td>\n",
       "    </tr>\n",
       "    <tr>\n",
       "      <th>9</th>\n",
       "      <td>15</td>\n",
       "      <td>15.501274</td>\n",
       "      <td>-0.501274</td>\n",
       "    </tr>\n",
       "  </tbody>\n",
       "</table>\n",
       "</div>"
      ],
      "text/plain": [
       "   actual  predicted  residual\n",
       "0       6   5.066172  0.933828\n",
       "1       6   4.168438  1.831562\n",
       "2      10   7.378006  2.621994\n",
       "3      15  13.893795  1.106205\n",
       "4      10   8.978842  1.021158\n",
       "5      15  15.935720 -0.935720\n",
       "6      11  11.757193 -0.757193\n",
       "7       6   4.417558  1.582442\n",
       "8      19  18.391486  0.608514\n",
       "9      15  15.501274 -0.501274"
      ]
     },
     "execution_count": 173,
     "metadata": {},
     "output_type": "execute_result"
    }
   ],
   "source": [
    "residuals_reduced = pd.DataFrame({'actual': data['g3'], \n",
    "                                  'predicted': model_reduced_fitted.fittedvalues, \n",
    "                                  'residual': model_reduced_fitted.resid})\n",
    "residuals_reduced.head(10)"
   ]
  },
  {
   "cell_type": "code",
   "execution_count": 174,
   "id": "318a8198",
   "metadata": {},
   "outputs": [
    {
     "data": {
      "image/png": "[encoded data removed]",
      "text/plain": [
       "<Figure size 432x288 with 1 Axes>"
      ]
     },
     "metadata": {
      "needs_background": "light"
     },
     "output_type": "display_data"
    }
   ],
   "source": [
    "# get a scatter plot\n",
    "plt.scatter(residuals_reduced['actual'], residuals_reduced['predicted'], alpha=0.3);\n",
    "plot_line(axis=plt.gca(), slope=1, intercept=0, c=\"red\");\n",
    "plt.xlabel('G3 Score');\n",
    "plt.ylabel('Predicted G3 Score');\n",
    "plt.title('Figure 13: Scatter plot of actual vs. predicted G3 Score for Reduced Model', fontsize=15);\n",
    "plt.show(); "
   ]
  },
  {
   "cell_type": "code",
   "execution_count": null,
   "id": "9fbc0753",
   "metadata": {},
   "outputs": [],
   "source": []
  },
  {
   "cell_type": "markdown",
   "id": "1063c08f",
   "metadata": {},
   "source": [
    "## Critique & Limitations <a id=\"Critique&Limitations\"></a>"
   ]
  },
  {
   "cell_type": "markdown",
   "id": "87ee9bac",
   "metadata": {},
   "source": [
    "## Summary & Conclusions <a id=\"Summary&Conclusions\"></a>"
   ]
  },
  {
   "cell_type": "markdown",
   "id": "5349a786",
   "metadata": {},
   "source": [
    "### Project Summary <a id=\"ProjectSummary\"></a>"
   ]
  },
  {
   "cell_type": "markdown",
   "id": "470b97d4",
   "metadata": {},
   "source": [
    "### Summary of Findings <a id=\"SummaryofFindings\"></a>"
   ]
  },
  {
   "cell_type": "markdown",
   "id": "261a38fc",
   "metadata": {},
   "source": [
    "### Conclusions <a id=\"Conclusions\"></a>"
   ]
  },
  {
   "cell_type": "markdown",
   "id": "1880995c",
   "metadata": {},
   "source": [
    "## References <a id=\"References\"></a>"
   ]
  }
 ],
 "metadata": {
  "kernelspec": {
   "display_name": "env",
   "language": "python",
   "name": "python3"
  },
  "language_info": {
   "codemirror_mode": {
    "name": "ipython",
    "version": 3
   },
   "file_extension": ".py",
   "mimetype": "text/x-python",
   "name": "python",
   "nbconvert_exporter": "python",
   "pygments_lexer": "ipython3",
   "version": "3.9.2"
  },
  "vscode": {
   "interpreter": {
    "hash": "1b62a783a2f5d5afb180498966423be0c6169397e624b60fa5b9760bfdf19b55"
   }
  }
 },
 "nbformat": 4,
 "nbformat_minor": 5
}
