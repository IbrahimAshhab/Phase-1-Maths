{
 "cells": [
  {
   "cell_type": "markdown",
   "id": "7b3835e0",
   "metadata": {},
   "source": [
    "# Predicting Students Maths Performance"
   ]
  },
  {
   "cell_type": "markdown",
   "id": "e783bd83",
   "metadata": {},
   "source": [
    "### Phase 2: Statistical Modelling"
   ]
  },
  {
   "cell_type": "markdown",
   "id": "e8137a67",
   "metadata": {},
   "source": [
    "### Group Number: 49"
   ]
  },
  {
   "cell_type": "markdown",
   "id": "61f8cfd7",
   "metadata": {},
   "source": [
    "#### Group member names and student ID's:\n",
    "\n",
    "    Ibrahim Al-Ashhab    s3953973\n",
    "    Abhijeet Kumar       s3905291\n",
    "    Philip Goutama       s3948643\n",
    "    Rashik Raj           s\n",
    "    Kawish Raj           s"
   ]
  },
  {
   "cell_type": "markdown",
   "id": "43b99ddb",
   "metadata": {},
   "source": [
    "## Table Of Contents\n",
    "- [Introduction](#Introduction)\n",
    "    - [Phase 1 Summary](#Phase1Summary)\n",
    "    - [Report Overview](#ReportOverview)\n",
    "    - [Overview of Methodology](#OverviewofMethodology)\n",
    "    \n",
    "- [Statistical Modelling](#StatisticalModelling)\n",
    "    - [Full Model Overview](#FullModelOverview)\n",
    "    - [Model Fitting](#ModelFitting)\n",
    "    - [Neural Network Model Fitting & Tuning](#NNMFT)\n",
    "\n",
    "- [Critique & Limitations](#Critique&Limitations)\n",
    "    \n",
    "- [Summary & Conclusions](#Summary&Conclusions)\n",
    "    - [Project Summary](#ProjectSummary)\n",
    "    - [Summary of Findings](#SummaryofFindings)\n",
    "    - [Conclusions](#Conclusions)\n",
    "    \n",
    "- [References](#References)"
   ]
  },
  {
   "cell_type": "markdown",
   "id": "4f815f17",
   "metadata": {},
   "source": [
    "## Introduction <a id=\"Introduction\"></a>"
   ]
  },
  {
   "cell_type": "markdown",
   "id": "0be910bf",
   "metadata": {},
   "source": [
    "### Phase 1 Summary <a id=\"Phase1Summary\"></a>"
   ]
  },
  {
   "cell_type": "markdown",
   "id": "655d8ee7",
   "metadata": {},
   "source": [
    "In phase 1 of our project we performed some data cleaning and preprocessing. This was minimal though as our dataset was mostly ready to work with. We also used libraries like seaborn and matplotlib to plot graphs and extract useful information about our dataset. This helped us establish some associations between various attributes and our target variable. We concluded that we need to dig deeper and analyze our dataset more to establish some causations and make informed predictions. "
   ]
  },
  {
   "cell_type": "markdown",
   "id": "cbb2cdca",
   "metadata": {},
   "source": [
    "### Report Overview <a id=\"ReportOverview\"></a>"
   ]
  },
  {
   "cell_type": "markdown",
   "id": "14cc69d2",
   "metadata": {},
   "source": [
    "A complete and accurate overview of the contents of your Phase 2 report. Clarification: A Table of Contents is not a report overview."
   ]
  },
  {
   "cell_type": "markdown",
   "id": "8e0ac2db",
   "metadata": {},
   "source": [
    "### Overview of Methodology <a id=\"OverviewofMethodology\"></a>"
   ]
  },
  {
   "cell_type": "markdown",
   "id": "840cd819",
   "metadata": {},
   "source": [
    "A detailed, complete, and accurate overview of your statistical modelling methodology (which is multiple linear regression). More specifically, in this subsection, you will provide a summary of your \"Statistical Modelling\" section below."
   ]
  },
  {
   "cell_type": "markdown",
   "id": "ee3b59e6",
   "metadata": {},
   "source": [
    "## Statistical Modelling <a id=\"StatisticalModelling\"></a>"
   ]
  },
  {
   "cell_type": "markdown",
   "id": "1629b4b1",
   "metadata": {},
   "source": [
    "### Full Model Overview <a id=\"FullModelOverview\"></a>"
   ]
  },
  {
   "cell_type": "markdown",
   "id": "a5aa1257",
   "metadata": {},
   "source": [
    "### Model Fitting <a id=\"ModelFitting\"></a>"
   ]
  },
  {
   "cell_type": "markdown",
   "id": "eac1a593",
   "metadata": {},
   "source": [
    "### Neural Network Model Fitting & Tuning <a id=\"NNMFT\"></a>"
   ]
  },
  {
   "cell_type": "markdown",
   "id": "1063c08f",
   "metadata": {},
   "source": [
    "## Critique & Limitations <a id=\"Critique&Limitations\"></a>"
   ]
  },
  {
   "cell_type": "markdown",
   "id": "87ee9bac",
   "metadata": {},
   "source": [
    "## Summary & Conclusions <a id=\"Summary&Conclusions\"></a>"
   ]
  },
  {
   "cell_type": "markdown",
   "id": "5349a786",
   "metadata": {},
   "source": [
    "### Project Summary <a id=\"ProjectSummary\"></a>"
   ]
  },
  {
   "cell_type": "markdown",
   "id": "470b97d4",
   "metadata": {},
   "source": [
    "### Summary of Findings <a id=\"SummaryofFindings\"></a>"
   ]
  },
  {
   "cell_type": "markdown",
   "id": "261a38fc",
   "metadata": {},
   "source": [
    "### Conclusions <a id=\"Conclusions\"></a>"
   ]
  },
  {
   "cell_type": "markdown",
   "id": "1880995c",
   "metadata": {},
   "source": [
    "## References <a id=\"References\"></a>"
   ]
  }
 ],
 "metadata": {
  "kernelspec": {
   "display_name": "Python 3 (ipykernel)",
   "language": "python",
   "name": "python3"
  },
  "language_info": {
   "codemirror_mode": {
    "name": "ipython",
    "version": 3
   },
   "file_extension": ".py",
   "mimetype": "text/x-python",
   "name": "python",
   "nbconvert_exporter": "python",
   "pygments_lexer": "ipython3",
   "version": "3.9.12"
  }
 },
 "nbformat": 4,
 "nbformat_minor": 5
}
